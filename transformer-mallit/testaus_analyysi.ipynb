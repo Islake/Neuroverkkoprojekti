{
 "cells": [
  {
   "cell_type": "markdown",
   "source": [
    "  \n",
    "## Generatiivinen tekstimallin testaus ja analyysi"
   ],
   "metadata": {
    "collapsed": false
   },
   "id": "285de416622d1447"
  },
  {
   "cell_type": "code",
   "source": [
    "\n",
    "import keras\n",
    "import sentencepiece as spm\n",
    "\n",
    "model = keras.models.load_model('satuteksti_model.keras')\n",
    "sp = spm.SentencePieceProcessor()\n",
    "sp.load('satuteksti_sp.model')"
   ],
   "metadata": {
    "collapsed": false,
    "ExecuteTime": {
     "end_time": "2025-04-24T18:03:06.924121Z",
     "start_time": "2025-04-24T18:03:04.138309Z"
    }
   },
   "id": "52940e280428d887",
   "outputs": [
    {
     "data": {
      "text/plain": [
       "True"
      ]
     },
     "execution_count": 1,
     "metadata": {},
     "output_type": "execute_result"
    }
   ],
   "execution_count": 1
  },
  {
   "cell_type": "markdown",
   "source": [
    "### Analysoida luodun tekstin laatua\n",
    "\n",
    "#### käyttää Pyvoikko:\n",
    "\n",
    "- kielioppivirheiden tarkistamiseen.\n",
    "\n",
    "- Textstat luettavuuden ja monimutkaisuuden arvioimiseen.\n",
    "\n",
    "    - Sanaston monipuolisuuteen esim. tyypillisten sanojen ja uniikkien sanojen määrää.\n",
    "- Luettavuuspiste tarkistamiseen."
   ],
   "metadata": {
    "collapsed": false
   },
   "id": "f83db5d7c2a85a1a"
  },
  {
   "metadata": {
    "ExecuteTime": {
     "end_time": "2025-04-24T18:03:20.724084Z",
     "start_time": "2025-04-24T18:03:12.634159Z"
    }
   },
   "cell_type": "code",
   "source": [
    "import pyvoikko\n",
    "import textstat\n",
    "from saved_functions.generate_text_funktio import generate_text\n",
    "\n",
    "prompts = [\n",
    "    \"prinsessa ja leipuri\",\n",
    "    \"sinä ja minä\",\n",
    "    \"Lintu laulaa\"\n",
    "]\n",
    "\n",
    "analyse_num = 1 # Generate texts from prompts\n",
    "for prompt in prompts:\n",
    "    generated_text = generate_text(model, sp, prompt, num_tokens=100, temperature=1.0)\n",
    "    print(f\"Transcribed text: {generated_text}\")\n",
    "\n",
    "    words = generated_text.split()\n",
    "    unique_words = set(words)\n",
    "    vocab_diversity = len(unique_words) / len(words) if words else 0\n",
    "    readability_score = textstat.flesch_reading_ease(generated_text)\n",
    "\n",
    "    print(f\"\\n Analyysin yhteenveto: {analyse_num}\")\n",
    "    analyse_num += 1\n",
    "    error_count = 0\n",
    "\n",
    "    for word in words:\n",
    "        if not pyvoikko.analyse(word):\n",
    "            error_count += 1\n",
    "\n",
    "    print(f\"- Virheellisiä sanoja: {error_count}\")\n",
    "    print(f\"- Sanaston monipuolisuus (uniikit / kaikki): {vocab_diversity:.2f}\")\n",
    "    print(f\"- Luettavuuspiste (Flesch): {readability_score:.2f}\")\n",
    "    print(\"\")"
   ],
   "id": "b9db523b212780f0",
   "outputs": [
    {
     "name": "stdout",
     "output_type": "stream",
     "text": [
      "Transcribed text: prinsessa ja leipuri poistui verkalleen. Vitkaan astui hän alas linnan marmoriportaita. — Parasta lienee laittaa kuntoon kotinsa ja talonsa ja valmistautua eroamaan täältä, pitääkseen kärpäsiä loitolla. Leipuri oli sitoi kiinni satulavyöllä ja leveämpi kuin naapuriprinssi. Mutta ratkaisevana hetkenä ei tämäkään prinssi saanut pitkin. Mutta kun hän ei hylännyt, ja mihin tuli hänen oli ajanut kotiin päin, niin että ajoneuvot. Miehet kiskoivat ohjaksista ja löivät hevoskoneja. — Aha, sanoi Niilo, eipä minulle, teillä vai minulla, näet porvarit kaupungissa, sekä talonpojat maalla toivoivat prinssin pian ottavan itselleen puolison. He\n",
      "\n",
      " Analyysin yhteenveto: 1\n",
      "- Virheellisiä sanoja: 25\n",
      "- Sanaston monipuolisuus (uniikit / kaikki): 0.89\n",
      "- Luettavuuspiste (Flesch): 52.26\n",
      "\n",
      "Transcribed text: sinä ja minä pääsen eteenpäin. — Et sinä niin vähällä pääse! sanoi haltijatar. — Saammepahan nähdä, kenellä meistä kärsivällisyyttä enemmän riittää, sinulla vai minulla, sanoi Niilo, myllyrenki, mutta sen jo sinulle varalta ilmoitan, että eteenpäin aion, enkä väisty! Yölepakot lensivät hetkeksi syrjään ja lukittiin sisältä kahdella lukolla. Mutta kävi niinkin, että hän huomasi ratsastajan, joka tulla karautti pitkin katua ja piti toista, satuloitua hevosta suitsista. Leipuri pisti kädet housuntaskuihinsa ja lentäen katon räystäiltä, tuo ääretön. — Myllyjä ojan ja sanoi hän, mihin\n",
      "\n",
      " Analyysin yhteenveto: 2\n",
      "- Virheellisiä sanoja: 28\n",
      "- Sanaston monipuolisuus (uniikit / kaikki): 0.88\n",
      "- Luettavuuspiste (Flesch): 43.09\n",
      "\n",
      "Transcribed text: Lintu laulaa. Hälinä ja touhu valtakunnassa vaimeni, ja kaikki nämä tuumat, sillä hän oli hyvin viisas. Hän tiesi, että valtakunnan korkeat maailmassa. Hän meni sisälle ja tuli heti takaisin leipäpala muassaan. — Koska sinulla on vähemmän kuin meillä, niin ole kuitenkaan luule, niin saat levätä! — Silloin Niilo ajatteli myllärin tytärtä, jota hän rakasti, ja hän tiesi, että ellei hän nyt pitäisi puoliansa, ei häistä koskaan mitään tulisi. — Kiitos, sanoi hän sentähden pohjoiselle, ja miten kauan sitten voi saada taivaan tuulet valtaasi, sitten\n",
      "\n",
      " Analyysin yhteenveto: 3\n",
      "- Virheellisiä sanoja: 29\n",
      "- Sanaston monipuolisuus (uniikit / kaikki): 0.82\n",
      "- Luettavuuspiste (Flesch): 66.23\n",
      "\n"
     ]
    }
   ],
   "execution_count": 2
  },
  {
   "metadata": {},
   "cell_type": "markdown",
   "source": [
    "### Analyysin yhteenveto:\n",
    "\n",
    "Alla olevassa taulukossa esitetään kolmen analyysin tulokset. Taulukosta näkee, kuinka monta virheellistä sanaa on kussakin analyysissä, sanaston monipuolisuuden (eli uniikkien sanojen suhde kaikkiin sanoihin) sekä tekstin luettavuuden Fleschin kaavan mukaan arvioituna.\n",
    "\n",
    "| **Analyysi** | **Virheellisiä sanoja** | **Sanaston monipuolisuus** | **Luettavuuspiste (Flesch)** |\n",
    "|--------------|-------------------------|----------------------------|------------------------------|\n",
    "| **Analyysi 1** | 25                      | 0.89                       | 52.26                        |\n",
    "| **Analyysi 2** | 28                      | 0.88                       | 43.09                        |\n",
    "| **Analyysi 3** | 29                      | 0.82                       | 66.23                        |\n",
    "\n",
    "**Huomioita:**\n",
    "- **Analyysi 1** osoittaa vahvaa sanaston monipuolisuutta ja hyvää luettavuutta verrattuna muihin.\n",
    "- **Analyysi 2** sisältää hieman enemmän virheitä ja matalamman luettavuuspisteen.\n",
    "- **Analyysi 3** on heikoin sanaston monipuolisuudessa, mutta sai korkeimman luettavuuspisteen, mikä voi viitata yksinkertaisempaan kieleen.\n"
   ],
   "id": "db818c14c8ea5a0c"
  },
  {
   "metadata": {},
   "cell_type": "code",
   "outputs": [],
   "execution_count": null,
   "source": "",
   "id": "83dfa109e18cffe2"
  }
 ],
 "metadata": {
  "kernelspec": {
   "display_name": "Python 3",
   "language": "python",
   "name": "python3"
  },
  "language_info": {
   "codemirror_mode": {
    "name": "ipython",
    "version": 2
   },
   "file_extension": ".py",
   "mimetype": "text/x-python",
   "name": "python",
   "nbconvert_exporter": "python",
   "pygments_lexer": "ipython2",
   "version": "2.7.6"
  }
 },
 "nbformat": 4,
 "nbformat_minor": 5
}
