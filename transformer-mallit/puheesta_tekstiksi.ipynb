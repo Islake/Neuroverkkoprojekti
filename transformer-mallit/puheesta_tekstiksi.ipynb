{
 "cells": [
  {
   "cell_type": "code",
   "execution_count": 47,
   "metadata": {
    "collapsed": true
   },
   "outputs": [],
   "source": [
    "import import_ipynb\n",
    "\n",
    "from puheentunnistus import transcribe_with_whisper"
   ]
  },
  {
   "cell_type": "code",
   "execution_count": 48,
   "outputs": [
    {
     "name": "stdout",
     "output_type": "stream",
     "text": [
      "Using device: cpu\n",
      "Loading Whisper small model...\n",
      "Generating transcription...\n",
      "Transcribed text:  Täällä on nyt lämmin ilmaa. Suomen kesä on kaunis.\n"
     ]
    }
   ],
   "source": [
    "audio_path = \"samples/testi2.wav\"\n",
    "transcribed_text = transcribe_with_whisper(audio_path)\n",
    "print(f\"Transcribed text: {transcribed_text}\")"
   ],
   "metadata": {
    "collapsed": false
   }
  },
  {
   "cell_type": "code",
   "execution_count": 49,
   "outputs": [],
   "source": [
    "from tensorflow import keras\n",
    "import sentencepiece as spm\n",
    "\n",
    "model = keras.models.load_model('satuteksti_model.keras')\n",
    "\n",
    "sp = spm.SentencePieceProcessor()\n",
    "sp.load('satuteksti_sp.model')\n",
    "\n",
    "from saved_functions.generate_text_funktio import generate_text"
   ],
   "metadata": {
    "collapsed": false
   }
  },
  {
   "cell_type": "code",
   "execution_count": 51,
   "outputs": [
    {
     "name": "stdout",
     "output_type": "stream",
     "text": [
      "Generated text: Täällä on nyt lämmin ilmaa. Suomen kesä on kaunis. Kun hän oli viipynyt vierailla mailla ja että koti-ikävä painosti hänen mieltään. — Herra kuningas, sanoi hän, äitini on vanha ja odotus käy hänelle varmaankin pitkäksi. Kunnoton poika olen ollut. Nyt kun talvi lähestyy, tahdon olla kohentamassa kotilieden kekäleitä. Sen sanottuaan jätti hän kohteliaasti hyvästit, otti repun selkäänsä ja lähti kotia päin. Mutta hänen sydäntänsä painosti astuessaan eräänä päivänä äitinsä valtakunnan rajan yli. Toisin ja parempia sanomia tuoden olisi hän tahtonut astua kuningattaren eteen. Siksi hän nyt kulki raskain askelin ja silmät maahan luotuina. Silloin kuuli\n"
     ]
    }
   ],
   "source": [
    "generated_text = generate_text(model, sp, transcribed_text, num_tokens=100, temperature=1.0)\n",
    "print(f\"Generated text: {generated_text}\")"
   ],
   "metadata": {
    "collapsed": false
   }
  },
  {
   "cell_type": "code",
   "execution_count": 50,
   "outputs": [],
   "source": [],
   "metadata": {
    "collapsed": false
   }
  }
 ],
 "metadata": {
  "kernelspec": {
   "display_name": "Python 3",
   "language": "python",
   "name": "python3"
  },
  "language_info": {
   "codemirror_mode": {
    "name": "ipython",
    "version": 2
   },
   "file_extension": ".py",
   "mimetype": "text/x-python",
   "name": "python",
   "nbconvert_exporter": "python",
   "pygments_lexer": "ipython2",
   "version": "2.7.6"
  }
 },
 "nbformat": 4,
 "nbformat_minor": 0
}
