{
 "cells": [
  {
   "cell_type": "code",
   "outputs": [],
   "source": [
    "import os, shutil, pathlib\n",
    "import tensorflow as tf\n",
    "import matplotlib.pyplot as plt\n",
    "import keras\n",
    "import time\n",
    "from keras import layers\n",
    "from keras.utils import image_dataset_from_directory"
   ],
   "metadata": {
    "collapsed": false,
    "ExecuteTime": {
     "end_time": "2025-04-07T11:48:36.552359Z",
     "start_time": "2025-04-07T11:48:11.562256Z"
    }
   },
   "id": "c3def61e7e7c7287",
   "execution_count": 1
  },
  {
   "cell_type": "markdown",
   "source": [
    "### Lataa kuvadatat TensorFlowin image_dataset_from_directory-funktiolla.\n",
    "- Kuvaa ladataan kolmesta kansiosta: \n",
    "    - Koulutusdata: kuvat/train kansiosta\n",
    "    - Validointidata: kuvat/validation_ kansiosta\n",
    "    - Testdata: kuvat/test kansiosta\n",
    "- Kaikki kuvat muunnetaan kokoon 224x224 pikseliä.\n",
    "- 4 kuvaa trainissa, 2 kuvaa validaoinnnissa ja  testissä käsitellään kerrallaan mallin syötteessä."
   ],
   "metadata": {
    "collapsed": false
   },
   "id": "6f628dd3889267d8"
  },
  {
   "cell_type": "code",
   "outputs": [
    {
     "name": "stdout",
     "output_type": "stream",
     "text": [
      "Found 126 files belonging to 3 classes.\n",
      "Found 27 files belonging to 3 classes.\n",
      "Found 27 files belonging to 3 classes.\n"
     ]
    }
   ],
   "source": [
    "# Load datasets\n",
    "train_dataset = image_dataset_from_directory(\n",
    "    os.path.join(\"kuvat\", \"train\"),\n",
    "    image_size=(224, 224),\n",
    "    batch_size=4\n",
    ")\n",
    "validation_dataset = image_dataset_from_directory(\n",
    "    os.path.join(\"kuvat\", \"validation\"),\n",
    "    image_size=(224, 224),\n",
    "    batch_size=2\n",
    ")\n",
    "test_dataset = image_dataset_from_directory(\n",
    "    os.path.join(\"kuvat\", \"test\"),\n",
    "    image_size=(224, 224),\n",
    "    batch_size=2\n",
    ")"
   ],
   "metadata": {
    "collapsed": false,
    "ExecuteTime": {
     "end_time": "2025-04-07T11:48:40.436320Z",
     "start_time": "2025-04-07T11:48:40.258351Z"
    }
   },
   "id": "5649e0b0686b94ce",
   "execution_count": 2
  },
  {
   "cell_type": "markdown",
   "source": [
    "Määritellään, että on 3 eri luokkaa (lusikka, haarukka ja veitsi).\n",
    "\n",
    "luodaan datan augmentointiputki vain train_datasetille:\n",
    "\n",
    "- RandomFlip(\"horizontal\")\n",
    "    - Kääntää kuvan vaakasuunnassa satunnaisesti.\n",
    "\n",
    "- RandomRotation(0.1)\n",
    "    - Pyöräyttää kuvaa ±10 % (eli n. ±36 astetta) satunnaisesti.\n",
    "\n",
    "- RandomZoom(0.2)"
   ],
   "metadata": {
    "collapsed": false
   },
   "id": "f98a78c811d3616"
  },
  {
   "cell_type": "code",
   "outputs": [],
   "source": [
    "num_classes = 3\n",
    "\n",
    "data_augmentation = keras.Sequential(\n",
    "    [\n",
    "        layers.RandomFlip(\"horizontal\"),\n",
    "        layers.RandomRotation(0.1),\n",
    "        layers.RandomZoom(0.2)\n",
    "    ]\n",
    ")\n",
    "\n",
    "# Apply augmentation only to the training dataset.\n",
    "train_dataset = train_dataset.map(lambda x, y: (data_augmentation(x), y))\n"
   ],
   "metadata": {
    "collapsed": false,
    "ExecuteTime": {
     "end_time": "2025-04-07T11:48:43.827286Z",
     "start_time": "2025-04-07T11:48:43.666526Z"
    }
   },
   "id": "c31862a3f42a289a",
   "execution_count": 3
  },
  {
   "cell_type": "markdown",
   "id": "fdc6ea67-59a0-475a-9c53-cf910b767342",
   "metadata": {},
   "source": [
    "Ladataan valmiiksi opetettu VGG16 ilman ylintä (dense) osaa\n",
    "- clude_top=False: Poistetaan alkuperäinen luokittelupää\n",
    "- conv_base.trainable = False\n",
    "    - Tämä jäädyttää VGG16:n painot, eli:\n",
    "    \n",
    "    - Ei päivitetä näitä kerroksia koulutuksessa.\n",
    "    \n",
    "    - Toimivat pelkkänä valmiina piirteiden tunnistimena."
   ]
  },
  {
   "cell_type": "code",
   "id": "7efe5359-535e-40f2-88b4-bd25fd6b2689",
   "metadata": {
    "tags": [],
    "ExecuteTime": {
     "end_time": "2025-04-07T11:48:47.636990Z",
     "start_time": "2025-04-07T11:48:47.401489Z"
    }
   },
   "source": [
    "conv_base = keras.applications.vgg16.VGG16(\n",
    "    weights=\"imagenet\",\n",
    "    include_top=False)\n",
    "conv_base.trainable = False\n",
    "\n",
    "conv_base.summary()"
   ],
   "outputs": [
    {
     "data": {
      "text/plain": "\u001B[1mModel: \"vgg16\"\u001B[0m\n",
      "text/html": "<pre style=\"white-space:pre;overflow-x:auto;line-height:normal;font-family:Menlo,'DejaVu Sans Mono',consolas,'Courier New',monospace\"><span style=\"font-weight: bold\">Model: \"vgg16\"</span>\n</pre>\n"
     },
     "metadata": {},
     "output_type": "display_data"
    },
    {
     "data": {
      "text/plain": "┏━━━━━━━━━━━━━━━━━━━━━━━━━━━━━━━━━┳━━━━━━━━━━━━━━━━━━━━━━━━┳━━━━━━━━━━━━━━━┓\n┃\u001B[1m \u001B[0m\u001B[1mLayer (type)                   \u001B[0m\u001B[1m \u001B[0m┃\u001B[1m \u001B[0m\u001B[1mOutput Shape          \u001B[0m\u001B[1m \u001B[0m┃\u001B[1m \u001B[0m\u001B[1m      Param #\u001B[0m\u001B[1m \u001B[0m┃\n┡━━━━━━━━━━━━━━━━━━━━━━━━━━━━━━━━━╇━━━━━━━━━━━━━━━━━━━━━━━━╇━━━━━━━━━━━━━━━┩\n│ input_layer_1 (\u001B[38;5;33mInputLayer\u001B[0m)      │ (\u001B[38;5;45mNone\u001B[0m, \u001B[38;5;45mNone\u001B[0m, \u001B[38;5;45mNone\u001B[0m, \u001B[38;5;34m3\u001B[0m)  │             \u001B[38;5;34m0\u001B[0m │\n├─────────────────────────────────┼────────────────────────┼───────────────┤\n│ block1_conv1 (\u001B[38;5;33mConv2D\u001B[0m)           │ (\u001B[38;5;45mNone\u001B[0m, \u001B[38;5;45mNone\u001B[0m, \u001B[38;5;45mNone\u001B[0m, \u001B[38;5;34m64\u001B[0m) │         \u001B[38;5;34m1,792\u001B[0m │\n├─────────────────────────────────┼────────────────────────┼───────────────┤\n│ block1_conv2 (\u001B[38;5;33mConv2D\u001B[0m)           │ (\u001B[38;5;45mNone\u001B[0m, \u001B[38;5;45mNone\u001B[0m, \u001B[38;5;45mNone\u001B[0m, \u001B[38;5;34m64\u001B[0m) │        \u001B[38;5;34m36,928\u001B[0m │\n├─────────────────────────────────┼────────────────────────┼───────────────┤\n│ block1_pool (\u001B[38;5;33mMaxPooling2D\u001B[0m)      │ (\u001B[38;5;45mNone\u001B[0m, \u001B[38;5;45mNone\u001B[0m, \u001B[38;5;45mNone\u001B[0m, \u001B[38;5;34m64\u001B[0m) │             \u001B[38;5;34m0\u001B[0m │\n├─────────────────────────────────┼────────────────────────┼───────────────┤\n│ block2_conv1 (\u001B[38;5;33mConv2D\u001B[0m)           │ (\u001B[38;5;45mNone\u001B[0m, \u001B[38;5;45mNone\u001B[0m, \u001B[38;5;45mNone\u001B[0m,     │        \u001B[38;5;34m73,856\u001B[0m │\n│                                 │ \u001B[38;5;34m128\u001B[0m)                   │               │\n├─────────────────────────────────┼────────────────────────┼───────────────┤\n│ block2_conv2 (\u001B[38;5;33mConv2D\u001B[0m)           │ (\u001B[38;5;45mNone\u001B[0m, \u001B[38;5;45mNone\u001B[0m, \u001B[38;5;45mNone\u001B[0m,     │       \u001B[38;5;34m147,584\u001B[0m │\n│                                 │ \u001B[38;5;34m128\u001B[0m)                   │               │\n├─────────────────────────────────┼────────────────────────┼───────────────┤\n│ block2_pool (\u001B[38;5;33mMaxPooling2D\u001B[0m)      │ (\u001B[38;5;45mNone\u001B[0m, \u001B[38;5;45mNone\u001B[0m, \u001B[38;5;45mNone\u001B[0m,     │             \u001B[38;5;34m0\u001B[0m │\n│                                 │ \u001B[38;5;34m128\u001B[0m)                   │               │\n├─────────────────────────────────┼────────────────────────┼───────────────┤\n│ block3_conv1 (\u001B[38;5;33mConv2D\u001B[0m)           │ (\u001B[38;5;45mNone\u001B[0m, \u001B[38;5;45mNone\u001B[0m, \u001B[38;5;45mNone\u001B[0m,     │       \u001B[38;5;34m295,168\u001B[0m │\n│                                 │ \u001B[38;5;34m256\u001B[0m)                   │               │\n├─────────────────────────────────┼────────────────────────┼───────────────┤\n│ block3_conv2 (\u001B[38;5;33mConv2D\u001B[0m)           │ (\u001B[38;5;45mNone\u001B[0m, \u001B[38;5;45mNone\u001B[0m, \u001B[38;5;45mNone\u001B[0m,     │       \u001B[38;5;34m590,080\u001B[0m │\n│                                 │ \u001B[38;5;34m256\u001B[0m)                   │               │\n├─────────────────────────────────┼────────────────────────┼───────────────┤\n│ block3_conv3 (\u001B[38;5;33mConv2D\u001B[0m)           │ (\u001B[38;5;45mNone\u001B[0m, \u001B[38;5;45mNone\u001B[0m, \u001B[38;5;45mNone\u001B[0m,     │       \u001B[38;5;34m590,080\u001B[0m │\n│                                 │ \u001B[38;5;34m256\u001B[0m)                   │               │\n├─────────────────────────────────┼────────────────────────┼───────────────┤\n│ block3_pool (\u001B[38;5;33mMaxPooling2D\u001B[0m)      │ (\u001B[38;5;45mNone\u001B[0m, \u001B[38;5;45mNone\u001B[0m, \u001B[38;5;45mNone\u001B[0m,     │             \u001B[38;5;34m0\u001B[0m │\n│                                 │ \u001B[38;5;34m256\u001B[0m)                   │               │\n├─────────────────────────────────┼────────────────────────┼───────────────┤\n│ block4_conv1 (\u001B[38;5;33mConv2D\u001B[0m)           │ (\u001B[38;5;45mNone\u001B[0m, \u001B[38;5;45mNone\u001B[0m, \u001B[38;5;45mNone\u001B[0m,     │     \u001B[38;5;34m1,180,160\u001B[0m │\n│                                 │ \u001B[38;5;34m512\u001B[0m)                   │               │\n├─────────────────────────────────┼────────────────────────┼───────────────┤\n│ block4_conv2 (\u001B[38;5;33mConv2D\u001B[0m)           │ (\u001B[38;5;45mNone\u001B[0m, \u001B[38;5;45mNone\u001B[0m, \u001B[38;5;45mNone\u001B[0m,     │     \u001B[38;5;34m2,359,808\u001B[0m │\n│                                 │ \u001B[38;5;34m512\u001B[0m)                   │               │\n├─────────────────────────────────┼────────────────────────┼───────────────┤\n│ block4_conv3 (\u001B[38;5;33mConv2D\u001B[0m)           │ (\u001B[38;5;45mNone\u001B[0m, \u001B[38;5;45mNone\u001B[0m, \u001B[38;5;45mNone\u001B[0m,     │     \u001B[38;5;34m2,359,808\u001B[0m │\n│                                 │ \u001B[38;5;34m512\u001B[0m)                   │               │\n├─────────────────────────────────┼────────────────────────┼───────────────┤\n│ block4_pool (\u001B[38;5;33mMaxPooling2D\u001B[0m)      │ (\u001B[38;5;45mNone\u001B[0m, \u001B[38;5;45mNone\u001B[0m, \u001B[38;5;45mNone\u001B[0m,     │             \u001B[38;5;34m0\u001B[0m │\n│                                 │ \u001B[38;5;34m512\u001B[0m)                   │               │\n├─────────────────────────────────┼────────────────────────┼───────────────┤\n│ block5_conv1 (\u001B[38;5;33mConv2D\u001B[0m)           │ (\u001B[38;5;45mNone\u001B[0m, \u001B[38;5;45mNone\u001B[0m, \u001B[38;5;45mNone\u001B[0m,     │     \u001B[38;5;34m2,359,808\u001B[0m │\n│                                 │ \u001B[38;5;34m512\u001B[0m)                   │               │\n├─────────────────────────────────┼────────────────────────┼───────────────┤\n│ block5_conv2 (\u001B[38;5;33mConv2D\u001B[0m)           │ (\u001B[38;5;45mNone\u001B[0m, \u001B[38;5;45mNone\u001B[0m, \u001B[38;5;45mNone\u001B[0m,     │     \u001B[38;5;34m2,359,808\u001B[0m │\n│                                 │ \u001B[38;5;34m512\u001B[0m)                   │               │\n├─────────────────────────────────┼────────────────────────┼───────────────┤\n│ block5_conv3 (\u001B[38;5;33mConv2D\u001B[0m)           │ (\u001B[38;5;45mNone\u001B[0m, \u001B[38;5;45mNone\u001B[0m, \u001B[38;5;45mNone\u001B[0m,     │     \u001B[38;5;34m2,359,808\u001B[0m │\n│                                 │ \u001B[38;5;34m512\u001B[0m)                   │               │\n├─────────────────────────────────┼────────────────────────┼───────────────┤\n│ block5_pool (\u001B[38;5;33mMaxPooling2D\u001B[0m)      │ (\u001B[38;5;45mNone\u001B[0m, \u001B[38;5;45mNone\u001B[0m, \u001B[38;5;45mNone\u001B[0m,     │             \u001B[38;5;34m0\u001B[0m │\n│                                 │ \u001B[38;5;34m512\u001B[0m)                   │               │\n└─────────────────────────────────┴────────────────────────┴───────────────┘\n",
      "text/html": "<pre style=\"white-space:pre;overflow-x:auto;line-height:normal;font-family:Menlo,'DejaVu Sans Mono',consolas,'Courier New',monospace\">┏━━━━━━━━━━━━━━━━━━━━━━━━━━━━━━━━━┳━━━━━━━━━━━━━━━━━━━━━━━━┳━━━━━━━━━━━━━━━┓\n┃<span style=\"font-weight: bold\"> Layer (type)                    </span>┃<span style=\"font-weight: bold\"> Output Shape           </span>┃<span style=\"font-weight: bold\">       Param # </span>┃\n┡━━━━━━━━━━━━━━━━━━━━━━━━━━━━━━━━━╇━━━━━━━━━━━━━━━━━━━━━━━━╇━━━━━━━━━━━━━━━┩\n│ input_layer_1 (<span style=\"color: #0087ff; text-decoration-color: #0087ff\">InputLayer</span>)      │ (<span style=\"color: #00d7ff; text-decoration-color: #00d7ff\">None</span>, <span style=\"color: #00d7ff; text-decoration-color: #00d7ff\">None</span>, <span style=\"color: #00d7ff; text-decoration-color: #00d7ff\">None</span>, <span style=\"color: #00af00; text-decoration-color: #00af00\">3</span>)  │             <span style=\"color: #00af00; text-decoration-color: #00af00\">0</span> │\n├─────────────────────────────────┼────────────────────────┼───────────────┤\n│ block1_conv1 (<span style=\"color: #0087ff; text-decoration-color: #0087ff\">Conv2D</span>)           │ (<span style=\"color: #00d7ff; text-decoration-color: #00d7ff\">None</span>, <span style=\"color: #00d7ff; text-decoration-color: #00d7ff\">None</span>, <span style=\"color: #00d7ff; text-decoration-color: #00d7ff\">None</span>, <span style=\"color: #00af00; text-decoration-color: #00af00\">64</span>) │         <span style=\"color: #00af00; text-decoration-color: #00af00\">1,792</span> │\n├─────────────────────────────────┼────────────────────────┼───────────────┤\n│ block1_conv2 (<span style=\"color: #0087ff; text-decoration-color: #0087ff\">Conv2D</span>)           │ (<span style=\"color: #00d7ff; text-decoration-color: #00d7ff\">None</span>, <span style=\"color: #00d7ff; text-decoration-color: #00d7ff\">None</span>, <span style=\"color: #00d7ff; text-decoration-color: #00d7ff\">None</span>, <span style=\"color: #00af00; text-decoration-color: #00af00\">64</span>) │        <span style=\"color: #00af00; text-decoration-color: #00af00\">36,928</span> │\n├─────────────────────────────────┼────────────────────────┼───────────────┤\n│ block1_pool (<span style=\"color: #0087ff; text-decoration-color: #0087ff\">MaxPooling2D</span>)      │ (<span style=\"color: #00d7ff; text-decoration-color: #00d7ff\">None</span>, <span style=\"color: #00d7ff; text-decoration-color: #00d7ff\">None</span>, <span style=\"color: #00d7ff; text-decoration-color: #00d7ff\">None</span>, <span style=\"color: #00af00; text-decoration-color: #00af00\">64</span>) │             <span style=\"color: #00af00; text-decoration-color: #00af00\">0</span> │\n├─────────────────────────────────┼────────────────────────┼───────────────┤\n│ block2_conv1 (<span style=\"color: #0087ff; text-decoration-color: #0087ff\">Conv2D</span>)           │ (<span style=\"color: #00d7ff; text-decoration-color: #00d7ff\">None</span>, <span style=\"color: #00d7ff; text-decoration-color: #00d7ff\">None</span>, <span style=\"color: #00d7ff; text-decoration-color: #00d7ff\">None</span>,     │        <span style=\"color: #00af00; text-decoration-color: #00af00\">73,856</span> │\n│                                 │ <span style=\"color: #00af00; text-decoration-color: #00af00\">128</span>)                   │               │\n├─────────────────────────────────┼────────────────────────┼───────────────┤\n│ block2_conv2 (<span style=\"color: #0087ff; text-decoration-color: #0087ff\">Conv2D</span>)           │ (<span style=\"color: #00d7ff; text-decoration-color: #00d7ff\">None</span>, <span style=\"color: #00d7ff; text-decoration-color: #00d7ff\">None</span>, <span style=\"color: #00d7ff; text-decoration-color: #00d7ff\">None</span>,     │       <span style=\"color: #00af00; text-decoration-color: #00af00\">147,584</span> │\n│                                 │ <span style=\"color: #00af00; text-decoration-color: #00af00\">128</span>)                   │               │\n├─────────────────────────────────┼────────────────────────┼───────────────┤\n│ block2_pool (<span style=\"color: #0087ff; text-decoration-color: #0087ff\">MaxPooling2D</span>)      │ (<span style=\"color: #00d7ff; text-decoration-color: #00d7ff\">None</span>, <span style=\"color: #00d7ff; text-decoration-color: #00d7ff\">None</span>, <span style=\"color: #00d7ff; text-decoration-color: #00d7ff\">None</span>,     │             <span style=\"color: #00af00; text-decoration-color: #00af00\">0</span> │\n│                                 │ <span style=\"color: #00af00; text-decoration-color: #00af00\">128</span>)                   │               │\n├─────────────────────────────────┼────────────────────────┼───────────────┤\n│ block3_conv1 (<span style=\"color: #0087ff; text-decoration-color: #0087ff\">Conv2D</span>)           │ (<span style=\"color: #00d7ff; text-decoration-color: #00d7ff\">None</span>, <span style=\"color: #00d7ff; text-decoration-color: #00d7ff\">None</span>, <span style=\"color: #00d7ff; text-decoration-color: #00d7ff\">None</span>,     │       <span style=\"color: #00af00; text-decoration-color: #00af00\">295,168</span> │\n│                                 │ <span style=\"color: #00af00; text-decoration-color: #00af00\">256</span>)                   │               │\n├─────────────────────────────────┼────────────────────────┼───────────────┤\n│ block3_conv2 (<span style=\"color: #0087ff; text-decoration-color: #0087ff\">Conv2D</span>)           │ (<span style=\"color: #00d7ff; text-decoration-color: #00d7ff\">None</span>, <span style=\"color: #00d7ff; text-decoration-color: #00d7ff\">None</span>, <span style=\"color: #00d7ff; text-decoration-color: #00d7ff\">None</span>,     │       <span style=\"color: #00af00; text-decoration-color: #00af00\">590,080</span> │\n│                                 │ <span style=\"color: #00af00; text-decoration-color: #00af00\">256</span>)                   │               │\n├─────────────────────────────────┼────────────────────────┼───────────────┤\n│ block3_conv3 (<span style=\"color: #0087ff; text-decoration-color: #0087ff\">Conv2D</span>)           │ (<span style=\"color: #00d7ff; text-decoration-color: #00d7ff\">None</span>, <span style=\"color: #00d7ff; text-decoration-color: #00d7ff\">None</span>, <span style=\"color: #00d7ff; text-decoration-color: #00d7ff\">None</span>,     │       <span style=\"color: #00af00; text-decoration-color: #00af00\">590,080</span> │\n│                                 │ <span style=\"color: #00af00; text-decoration-color: #00af00\">256</span>)                   │               │\n├─────────────────────────────────┼────────────────────────┼───────────────┤\n│ block3_pool (<span style=\"color: #0087ff; text-decoration-color: #0087ff\">MaxPooling2D</span>)      │ (<span style=\"color: #00d7ff; text-decoration-color: #00d7ff\">None</span>, <span style=\"color: #00d7ff; text-decoration-color: #00d7ff\">None</span>, <span style=\"color: #00d7ff; text-decoration-color: #00d7ff\">None</span>,     │             <span style=\"color: #00af00; text-decoration-color: #00af00\">0</span> │\n│                                 │ <span style=\"color: #00af00; text-decoration-color: #00af00\">256</span>)                   │               │\n├─────────────────────────────────┼────────────────────────┼───────────────┤\n│ block4_conv1 (<span style=\"color: #0087ff; text-decoration-color: #0087ff\">Conv2D</span>)           │ (<span style=\"color: #00d7ff; text-decoration-color: #00d7ff\">None</span>, <span style=\"color: #00d7ff; text-decoration-color: #00d7ff\">None</span>, <span style=\"color: #00d7ff; text-decoration-color: #00d7ff\">None</span>,     │     <span style=\"color: #00af00; text-decoration-color: #00af00\">1,180,160</span> │\n│                                 │ <span style=\"color: #00af00; text-decoration-color: #00af00\">512</span>)                   │               │\n├─────────────────────────────────┼────────────────────────┼───────────────┤\n│ block4_conv2 (<span style=\"color: #0087ff; text-decoration-color: #0087ff\">Conv2D</span>)           │ (<span style=\"color: #00d7ff; text-decoration-color: #00d7ff\">None</span>, <span style=\"color: #00d7ff; text-decoration-color: #00d7ff\">None</span>, <span style=\"color: #00d7ff; text-decoration-color: #00d7ff\">None</span>,     │     <span style=\"color: #00af00; text-decoration-color: #00af00\">2,359,808</span> │\n│                                 │ <span style=\"color: #00af00; text-decoration-color: #00af00\">512</span>)                   │               │\n├─────────────────────────────────┼────────────────────────┼───────────────┤\n│ block4_conv3 (<span style=\"color: #0087ff; text-decoration-color: #0087ff\">Conv2D</span>)           │ (<span style=\"color: #00d7ff; text-decoration-color: #00d7ff\">None</span>, <span style=\"color: #00d7ff; text-decoration-color: #00d7ff\">None</span>, <span style=\"color: #00d7ff; text-decoration-color: #00d7ff\">None</span>,     │     <span style=\"color: #00af00; text-decoration-color: #00af00\">2,359,808</span> │\n│                                 │ <span style=\"color: #00af00; text-decoration-color: #00af00\">512</span>)                   │               │\n├─────────────────────────────────┼────────────────────────┼───────────────┤\n│ block4_pool (<span style=\"color: #0087ff; text-decoration-color: #0087ff\">MaxPooling2D</span>)      │ (<span style=\"color: #00d7ff; text-decoration-color: #00d7ff\">None</span>, <span style=\"color: #00d7ff; text-decoration-color: #00d7ff\">None</span>, <span style=\"color: #00d7ff; text-decoration-color: #00d7ff\">None</span>,     │             <span style=\"color: #00af00; text-decoration-color: #00af00\">0</span> │\n│                                 │ <span style=\"color: #00af00; text-decoration-color: #00af00\">512</span>)                   │               │\n├─────────────────────────────────┼────────────────────────┼───────────────┤\n│ block5_conv1 (<span style=\"color: #0087ff; text-decoration-color: #0087ff\">Conv2D</span>)           │ (<span style=\"color: #00d7ff; text-decoration-color: #00d7ff\">None</span>, <span style=\"color: #00d7ff; text-decoration-color: #00d7ff\">None</span>, <span style=\"color: #00d7ff; text-decoration-color: #00d7ff\">None</span>,     │     <span style=\"color: #00af00; text-decoration-color: #00af00\">2,359,808</span> │\n│                                 │ <span style=\"color: #00af00; text-decoration-color: #00af00\">512</span>)                   │               │\n├─────────────────────────────────┼────────────────────────┼───────────────┤\n│ block5_conv2 (<span style=\"color: #0087ff; text-decoration-color: #0087ff\">Conv2D</span>)           │ (<span style=\"color: #00d7ff; text-decoration-color: #00d7ff\">None</span>, <span style=\"color: #00d7ff; text-decoration-color: #00d7ff\">None</span>, <span style=\"color: #00d7ff; text-decoration-color: #00d7ff\">None</span>,     │     <span style=\"color: #00af00; text-decoration-color: #00af00\">2,359,808</span> │\n│                                 │ <span style=\"color: #00af00; text-decoration-color: #00af00\">512</span>)                   │               │\n├─────────────────────────────────┼────────────────────────┼───────────────┤\n│ block5_conv3 (<span style=\"color: #0087ff; text-decoration-color: #0087ff\">Conv2D</span>)           │ (<span style=\"color: #00d7ff; text-decoration-color: #00d7ff\">None</span>, <span style=\"color: #00d7ff; text-decoration-color: #00d7ff\">None</span>, <span style=\"color: #00d7ff; text-decoration-color: #00d7ff\">None</span>,     │     <span style=\"color: #00af00; text-decoration-color: #00af00\">2,359,808</span> │\n│                                 │ <span style=\"color: #00af00; text-decoration-color: #00af00\">512</span>)                   │               │\n├─────────────────────────────────┼────────────────────────┼───────────────┤\n│ block5_pool (<span style=\"color: #0087ff; text-decoration-color: #0087ff\">MaxPooling2D</span>)      │ (<span style=\"color: #00d7ff; text-decoration-color: #00d7ff\">None</span>, <span style=\"color: #00d7ff; text-decoration-color: #00d7ff\">None</span>, <span style=\"color: #00d7ff; text-decoration-color: #00d7ff\">None</span>,     │             <span style=\"color: #00af00; text-decoration-color: #00af00\">0</span> │\n│                                 │ <span style=\"color: #00af00; text-decoration-color: #00af00\">512</span>)                   │               │\n└─────────────────────────────────┴────────────────────────┴───────────────┘\n</pre>\n"
     },
     "metadata": {},
     "output_type": "display_data"
    },
    {
     "data": {
      "text/plain": "\u001B[1m Total params: \u001B[0m\u001B[38;5;34m14,714,688\u001B[0m (56.13 MB)\n",
      "text/html": "<pre style=\"white-space:pre;overflow-x:auto;line-height:normal;font-family:Menlo,'DejaVu Sans Mono',consolas,'Courier New',monospace\"><span style=\"font-weight: bold\"> Total params: </span><span style=\"color: #00af00; text-decoration-color: #00af00\">14,714,688</span> (56.13 MB)\n</pre>\n"
     },
     "metadata": {},
     "output_type": "display_data"
    },
    {
     "data": {
      "text/plain": "\u001B[1m Trainable params: \u001B[0m\u001B[38;5;34m0\u001B[0m (0.00 B)\n",
      "text/html": "<pre style=\"white-space:pre;overflow-x:auto;line-height:normal;font-family:Menlo,'DejaVu Sans Mono',consolas,'Courier New',monospace\"><span style=\"font-weight: bold\"> Trainable params: </span><span style=\"color: #00af00; text-decoration-color: #00af00\">0</span> (0.00 B)\n</pre>\n"
     },
     "metadata": {},
     "output_type": "display_data"
    },
    {
     "data": {
      "text/plain": "\u001B[1m Non-trainable params: \u001B[0m\u001B[38;5;34m14,714,688\u001B[0m (56.13 MB)\n",
      "text/html": "<pre style=\"white-space:pre;overflow-x:auto;line-height:normal;font-family:Menlo,'DejaVu Sans Mono',consolas,'Courier New',monospace\"><span style=\"font-weight: bold\"> Non-trainable params: </span><span style=\"color: #00af00; text-decoration-color: #00af00\">14,714,688</span> (56.13 MB)\n</pre>\n"
     },
     "metadata": {},
     "output_type": "display_data"
    }
   ],
   "execution_count": 4
  },
  {
   "cell_type": "markdown",
   "source": [
    "1. Syötekerros:\n",
    "- Inputs: Määritetään mallin syötekuvan koko: 224x224 ja 3 värikanavaa (RGB).\n",
    "2. Esiprosessointi:\n",
    "- GG16-malli vaatii tietyntyyppistä esiprosessointia:\n",
    "    - Pikselit muutetaan oikeaan mittakaavaan.\n",
    "    - Vähennetään keskiarvot ([103.939, 116.779, 123.68])    \n",
    "    - Muutetaan BGR-järjestykseen\n",
    "3. VGG16 ilman ylintä osaa:\n",
    "    - Käytetään aiemmin ladattua ja jäädytettyä conv_base-verkkoa.\n",
    "4. Omien kerros lisääminen:\n",
    "    - Flatten → muutetaan piirrejoukko vektoriksi\n",
    "    - Dense (256) → opetettava, täysin yhdistetty kerros   \n",
    "    - Dropout (0.5) → ehkäistään ylisovittamista    \n",
    "    - Dense (num_classes) → lopullinen softmax-luokituskerros\n",
    "5. Koko mallin rakentaminen\n",
    "    - Sidotaan syöte ja lähtö yhteen keras.Model-olioon.\n",
    "6. Käännös (compile)\n",
    "    - Käytetään sparse_categorical_crossentropy, koska luokat ovat kokonaislukuja, ei one-hot vektoreita."
   ],
   "metadata": {
    "collapsed": false
   },
   "id": "ea77dab89710701a"
  },
  {
   "cell_type": "markdown",
   "source": [],
   "metadata": {
    "collapsed": false
   },
   "id": "7db69fa9fb64f853"
  },
  {
   "cell_type": "code",
   "outputs": [
    {
     "data": {
      "text/plain": "\u001B[1mModel: \"functional_1\"\u001B[0m\n",
      "text/html": "<pre style=\"white-space:pre;overflow-x:auto;line-height:normal;font-family:Menlo,'DejaVu Sans Mono',consolas,'Courier New',monospace\"><span style=\"font-weight: bold\">Model: \"functional_1\"</span>\n</pre>\n"
     },
     "metadata": {},
     "output_type": "display_data"
    },
    {
     "data": {
      "text/plain": "┏━━━━━━━━━━━━━━━━━━━━━┳━━━━━━━━━━━━━━━━━━━┳━━━━━━━━━━━━┳━━━━━━━━━━━━━━━━━━━┓\n┃\u001B[1m \u001B[0m\u001B[1mLayer (type)       \u001B[0m\u001B[1m \u001B[0m┃\u001B[1m \u001B[0m\u001B[1mOutput Shape     \u001B[0m\u001B[1m \u001B[0m┃\u001B[1m \u001B[0m\u001B[1m   Param #\u001B[0m\u001B[1m \u001B[0m┃\u001B[1m \u001B[0m\u001B[1mConnected to     \u001B[0m\u001B[1m \u001B[0m┃\n┡━━━━━━━━━━━━━━━━━━━━━╇━━━━━━━━━━━━━━━━━━━╇━━━━━━━━━━━━╇━━━━━━━━━━━━━━━━━━━┩\n│ input_layer_2       │ (\u001B[38;5;45mNone\u001B[0m, \u001B[38;5;34m224\u001B[0m, \u001B[38;5;34m224\u001B[0m,  │          \u001B[38;5;34m0\u001B[0m │ -                 │\n│ (\u001B[38;5;33mInputLayer\u001B[0m)        │ \u001B[38;5;34m3\u001B[0m)                │            │                   │\n├─────────────────────┼───────────────────┼────────────┼───────────────────┤\n│ get_item (\u001B[38;5;33mGetItem\u001B[0m)  │ (\u001B[38;5;45mNone\u001B[0m, \u001B[38;5;34m224\u001B[0m, \u001B[38;5;34m224\u001B[0m)  │          \u001B[38;5;34m0\u001B[0m │ input_layer_2[\u001B[38;5;34m0\u001B[0m]… │\n├─────────────────────┼───────────────────┼────────────┼───────────────────┤\n│ get_item_1          │ (\u001B[38;5;45mNone\u001B[0m, \u001B[38;5;34m224\u001B[0m, \u001B[38;5;34m224\u001B[0m)  │          \u001B[38;5;34m0\u001B[0m │ input_layer_2[\u001B[38;5;34m0\u001B[0m]… │\n│ (\u001B[38;5;33mGetItem\u001B[0m)           │                   │            │                   │\n├─────────────────────┼───────────────────┼────────────┼───────────────────┤\n│ get_item_2          │ (\u001B[38;5;45mNone\u001B[0m, \u001B[38;5;34m224\u001B[0m, \u001B[38;5;34m224\u001B[0m)  │          \u001B[38;5;34m0\u001B[0m │ input_layer_2[\u001B[38;5;34m0\u001B[0m]… │\n│ (\u001B[38;5;33mGetItem\u001B[0m)           │                   │            │                   │\n├─────────────────────┼───────────────────┼────────────┼───────────────────┤\n│ stack (\u001B[38;5;33mStack\u001B[0m)       │ (\u001B[38;5;45mNone\u001B[0m, \u001B[38;5;34m224\u001B[0m, \u001B[38;5;34m224\u001B[0m,  │          \u001B[38;5;34m0\u001B[0m │ get_item[\u001B[38;5;34m0\u001B[0m][\u001B[38;5;34m0\u001B[0m],   │\n│                     │ \u001B[38;5;34m3\u001B[0m)                │            │ get_item_1[\u001B[38;5;34m0\u001B[0m][\u001B[38;5;34m0\u001B[0m], │\n│                     │                   │            │ get_item_2[\u001B[38;5;34m0\u001B[0m][\u001B[38;5;34m0\u001B[0m]  │\n├─────────────────────┼───────────────────┼────────────┼───────────────────┤\n│ add (\u001B[38;5;33mAdd\u001B[0m)           │ (\u001B[38;5;45mNone\u001B[0m, \u001B[38;5;34m224\u001B[0m, \u001B[38;5;34m224\u001B[0m,  │          \u001B[38;5;34m0\u001B[0m │ stack[\u001B[38;5;34m0\u001B[0m][\u001B[38;5;34m0\u001B[0m]       │\n│                     │ \u001B[38;5;34m3\u001B[0m)                │            │                   │\n├─────────────────────┼───────────────────┼────────────┼───────────────────┤\n│ vgg16 (\u001B[38;5;33mFunctional\u001B[0m)  │ (\u001B[38;5;45mNone\u001B[0m, \u001B[38;5;34m7\u001B[0m, \u001B[38;5;34m7\u001B[0m, \u001B[38;5;34m512\u001B[0m) │ \u001B[38;5;34m14,714,688\u001B[0m │ add[\u001B[38;5;34m0\u001B[0m][\u001B[38;5;34m0\u001B[0m]         │\n├─────────────────────┼───────────────────┼────────────┼───────────────────┤\n│ flatten (\u001B[38;5;33mFlatten\u001B[0m)   │ (\u001B[38;5;45mNone\u001B[0m, \u001B[38;5;34m25088\u001B[0m)     │          \u001B[38;5;34m0\u001B[0m │ vgg16[\u001B[38;5;34m0\u001B[0m][\u001B[38;5;34m0\u001B[0m]       │\n├─────────────────────┼───────────────────┼────────────┼───────────────────┤\n│ dense (\u001B[38;5;33mDense\u001B[0m)       │ (\u001B[38;5;45mNone\u001B[0m, \u001B[38;5;34m256\u001B[0m)       │  \u001B[38;5;34m6,422,784\u001B[0m │ flatten[\u001B[38;5;34m0\u001B[0m][\u001B[38;5;34m0\u001B[0m]     │\n├─────────────────────┼───────────────────┼────────────┼───────────────────┤\n│ dropout (\u001B[38;5;33mDropout\u001B[0m)   │ (\u001B[38;5;45mNone\u001B[0m, \u001B[38;5;34m256\u001B[0m)       │          \u001B[38;5;34m0\u001B[0m │ dense[\u001B[38;5;34m0\u001B[0m][\u001B[38;5;34m0\u001B[0m]       │\n├─────────────────────┼───────────────────┼────────────┼───────────────────┤\n│ dense_1 (\u001B[38;5;33mDense\u001B[0m)     │ (\u001B[38;5;45mNone\u001B[0m, \u001B[38;5;34m3\u001B[0m)         │        \u001B[38;5;34m771\u001B[0m │ dropout[\u001B[38;5;34m0\u001B[0m][\u001B[38;5;34m0\u001B[0m]     │\n└─────────────────────┴───────────────────┴────────────┴───────────────────┘\n",
      "text/html": "<pre style=\"white-space:pre;overflow-x:auto;line-height:normal;font-family:Menlo,'DejaVu Sans Mono',consolas,'Courier New',monospace\">┏━━━━━━━━━━━━━━━━━━━━━┳━━━━━━━━━━━━━━━━━━━┳━━━━━━━━━━━━┳━━━━━━━━━━━━━━━━━━━┓\n┃<span style=\"font-weight: bold\"> Layer (type)        </span>┃<span style=\"font-weight: bold\"> Output Shape      </span>┃<span style=\"font-weight: bold\">    Param # </span>┃<span style=\"font-weight: bold\"> Connected to      </span>┃\n┡━━━━━━━━━━━━━━━━━━━━━╇━━━━━━━━━━━━━━━━━━━╇━━━━━━━━━━━━╇━━━━━━━━━━━━━━━━━━━┩\n│ input_layer_2       │ (<span style=\"color: #00d7ff; text-decoration-color: #00d7ff\">None</span>, <span style=\"color: #00af00; text-decoration-color: #00af00\">224</span>, <span style=\"color: #00af00; text-decoration-color: #00af00\">224</span>,  │          <span style=\"color: #00af00; text-decoration-color: #00af00\">0</span> │ -                 │\n│ (<span style=\"color: #0087ff; text-decoration-color: #0087ff\">InputLayer</span>)        │ <span style=\"color: #00af00; text-decoration-color: #00af00\">3</span>)                │            │                   │\n├─────────────────────┼───────────────────┼────────────┼───────────────────┤\n│ get_item (<span style=\"color: #0087ff; text-decoration-color: #0087ff\">GetItem</span>)  │ (<span style=\"color: #00d7ff; text-decoration-color: #00d7ff\">None</span>, <span style=\"color: #00af00; text-decoration-color: #00af00\">224</span>, <span style=\"color: #00af00; text-decoration-color: #00af00\">224</span>)  │          <span style=\"color: #00af00; text-decoration-color: #00af00\">0</span> │ input_layer_2[<span style=\"color: #00af00; text-decoration-color: #00af00\">0</span>]… │\n├─────────────────────┼───────────────────┼────────────┼───────────────────┤\n│ get_item_1          │ (<span style=\"color: #00d7ff; text-decoration-color: #00d7ff\">None</span>, <span style=\"color: #00af00; text-decoration-color: #00af00\">224</span>, <span style=\"color: #00af00; text-decoration-color: #00af00\">224</span>)  │          <span style=\"color: #00af00; text-decoration-color: #00af00\">0</span> │ input_layer_2[<span style=\"color: #00af00; text-decoration-color: #00af00\">0</span>]… │\n│ (<span style=\"color: #0087ff; text-decoration-color: #0087ff\">GetItem</span>)           │                   │            │                   │\n├─────────────────────┼───────────────────┼────────────┼───────────────────┤\n│ get_item_2          │ (<span style=\"color: #00d7ff; text-decoration-color: #00d7ff\">None</span>, <span style=\"color: #00af00; text-decoration-color: #00af00\">224</span>, <span style=\"color: #00af00; text-decoration-color: #00af00\">224</span>)  │          <span style=\"color: #00af00; text-decoration-color: #00af00\">0</span> │ input_layer_2[<span style=\"color: #00af00; text-decoration-color: #00af00\">0</span>]… │\n│ (<span style=\"color: #0087ff; text-decoration-color: #0087ff\">GetItem</span>)           │                   │            │                   │\n├─────────────────────┼───────────────────┼────────────┼───────────────────┤\n│ stack (<span style=\"color: #0087ff; text-decoration-color: #0087ff\">Stack</span>)       │ (<span style=\"color: #00d7ff; text-decoration-color: #00d7ff\">None</span>, <span style=\"color: #00af00; text-decoration-color: #00af00\">224</span>, <span style=\"color: #00af00; text-decoration-color: #00af00\">224</span>,  │          <span style=\"color: #00af00; text-decoration-color: #00af00\">0</span> │ get_item[<span style=\"color: #00af00; text-decoration-color: #00af00\">0</span>][<span style=\"color: #00af00; text-decoration-color: #00af00\">0</span>],   │\n│                     │ <span style=\"color: #00af00; text-decoration-color: #00af00\">3</span>)                │            │ get_item_1[<span style=\"color: #00af00; text-decoration-color: #00af00\">0</span>][<span style=\"color: #00af00; text-decoration-color: #00af00\">0</span>], │\n│                     │                   │            │ get_item_2[<span style=\"color: #00af00; text-decoration-color: #00af00\">0</span>][<span style=\"color: #00af00; text-decoration-color: #00af00\">0</span>]  │\n├─────────────────────┼───────────────────┼────────────┼───────────────────┤\n│ add (<span style=\"color: #0087ff; text-decoration-color: #0087ff\">Add</span>)           │ (<span style=\"color: #00d7ff; text-decoration-color: #00d7ff\">None</span>, <span style=\"color: #00af00; text-decoration-color: #00af00\">224</span>, <span style=\"color: #00af00; text-decoration-color: #00af00\">224</span>,  │          <span style=\"color: #00af00; text-decoration-color: #00af00\">0</span> │ stack[<span style=\"color: #00af00; text-decoration-color: #00af00\">0</span>][<span style=\"color: #00af00; text-decoration-color: #00af00\">0</span>]       │\n│                     │ <span style=\"color: #00af00; text-decoration-color: #00af00\">3</span>)                │            │                   │\n├─────────────────────┼───────────────────┼────────────┼───────────────────┤\n│ vgg16 (<span style=\"color: #0087ff; text-decoration-color: #0087ff\">Functional</span>)  │ (<span style=\"color: #00d7ff; text-decoration-color: #00d7ff\">None</span>, <span style=\"color: #00af00; text-decoration-color: #00af00\">7</span>, <span style=\"color: #00af00; text-decoration-color: #00af00\">7</span>, <span style=\"color: #00af00; text-decoration-color: #00af00\">512</span>) │ <span style=\"color: #00af00; text-decoration-color: #00af00\">14,714,688</span> │ add[<span style=\"color: #00af00; text-decoration-color: #00af00\">0</span>][<span style=\"color: #00af00; text-decoration-color: #00af00\">0</span>]         │\n├─────────────────────┼───────────────────┼────────────┼───────────────────┤\n│ flatten (<span style=\"color: #0087ff; text-decoration-color: #0087ff\">Flatten</span>)   │ (<span style=\"color: #00d7ff; text-decoration-color: #00d7ff\">None</span>, <span style=\"color: #00af00; text-decoration-color: #00af00\">25088</span>)     │          <span style=\"color: #00af00; text-decoration-color: #00af00\">0</span> │ vgg16[<span style=\"color: #00af00; text-decoration-color: #00af00\">0</span>][<span style=\"color: #00af00; text-decoration-color: #00af00\">0</span>]       │\n├─────────────────────┼───────────────────┼────────────┼───────────────────┤\n│ dense (<span style=\"color: #0087ff; text-decoration-color: #0087ff\">Dense</span>)       │ (<span style=\"color: #00d7ff; text-decoration-color: #00d7ff\">None</span>, <span style=\"color: #00af00; text-decoration-color: #00af00\">256</span>)       │  <span style=\"color: #00af00; text-decoration-color: #00af00\">6,422,784</span> │ flatten[<span style=\"color: #00af00; text-decoration-color: #00af00\">0</span>][<span style=\"color: #00af00; text-decoration-color: #00af00\">0</span>]     │\n├─────────────────────┼───────────────────┼────────────┼───────────────────┤\n│ dropout (<span style=\"color: #0087ff; text-decoration-color: #0087ff\">Dropout</span>)   │ (<span style=\"color: #00d7ff; text-decoration-color: #00d7ff\">None</span>, <span style=\"color: #00af00; text-decoration-color: #00af00\">256</span>)       │          <span style=\"color: #00af00; text-decoration-color: #00af00\">0</span> │ dense[<span style=\"color: #00af00; text-decoration-color: #00af00\">0</span>][<span style=\"color: #00af00; text-decoration-color: #00af00\">0</span>]       │\n├─────────────────────┼───────────────────┼────────────┼───────────────────┤\n│ dense_1 (<span style=\"color: #0087ff; text-decoration-color: #0087ff\">Dense</span>)     │ (<span style=\"color: #00d7ff; text-decoration-color: #00d7ff\">None</span>, <span style=\"color: #00af00; text-decoration-color: #00af00\">3</span>)         │        <span style=\"color: #00af00; text-decoration-color: #00af00\">771</span> │ dropout[<span style=\"color: #00af00; text-decoration-color: #00af00\">0</span>][<span style=\"color: #00af00; text-decoration-color: #00af00\">0</span>]     │\n└─────────────────────┴───────────────────┴────────────┴───────────────────┘\n</pre>\n"
     },
     "metadata": {},
     "output_type": "display_data"
    },
    {
     "data": {
      "text/plain": "\u001B[1m Total params: \u001B[0m\u001B[38;5;34m21,138,243\u001B[0m (80.64 MB)\n",
      "text/html": "<pre style=\"white-space:pre;overflow-x:auto;line-height:normal;font-family:Menlo,'DejaVu Sans Mono',consolas,'Courier New',monospace\"><span style=\"font-weight: bold\"> Total params: </span><span style=\"color: #00af00; text-decoration-color: #00af00\">21,138,243</span> (80.64 MB)\n</pre>\n"
     },
     "metadata": {},
     "output_type": "display_data"
    },
    {
     "data": {
      "text/plain": "\u001B[1m Trainable params: \u001B[0m\u001B[38;5;34m6,423,555\u001B[0m (24.50 MB)\n",
      "text/html": "<pre style=\"white-space:pre;overflow-x:auto;line-height:normal;font-family:Menlo,'DejaVu Sans Mono',consolas,'Courier New',monospace\"><span style=\"font-weight: bold\"> Trainable params: </span><span style=\"color: #00af00; text-decoration-color: #00af00\">6,423,555</span> (24.50 MB)\n</pre>\n"
     },
     "metadata": {},
     "output_type": "display_data"
    },
    {
     "data": {
      "text/plain": "\u001B[1m Non-trainable params: \u001B[0m\u001B[38;5;34m14,714,688\u001B[0m (56.13 MB)\n",
      "text/html": "<pre style=\"white-space:pre;overflow-x:auto;line-height:normal;font-family:Menlo,'DejaVu Sans Mono',consolas,'Courier New',monospace\"><span style=\"font-weight: bold\"> Non-trainable params: </span><span style=\"color: #00af00; text-decoration-color: #00af00\">14,714,688</span> (56.13 MB)\n</pre>\n"
     },
     "metadata": {},
     "output_type": "display_data"
    }
   ],
   "source": [
    "inputs = keras.Input(shape=(224, 224, 3))\n",
    "x = keras.applications.vgg16.preprocess_input(inputs)\n",
    "x = conv_base(x)\n",
    "x = layers.Flatten()(x)\n",
    "x = layers.Dense(256, activation=\"relu\")(x)\n",
    "x = layers.Dropout(0.5)(x)\n",
    "outputs = layers.Dense(num_classes, activation=\"softmax\")(x)  \n",
    "\n",
    "model = keras.Model(inputs, outputs)\n",
    "\n",
    "model.compile(\n",
    "    loss=\"sparse_categorical_crossentropy\",\n",
    "    optimizer=\"adam\",\n",
    "    metrics=[\"accuracy\"]\n",
    ")\n",
    "\n",
    "model.summary()"
   ],
   "metadata": {
    "collapsed": false,
    "ExecuteTime": {
     "end_time": "2025-04-07T11:49:07.568036Z",
     "start_time": "2025-04-07T11:49:07.520973Z"
    }
   },
   "id": "afc6ad3f84174175",
   "execution_count": 5
  },
  {
   "cell_type": "markdown",
   "source": [
    "lisää ModelCheckpoint-callbackin, joka tallentaa parhaan version mallista koulutuksen aikana.\n",
    "- filepath=\"feature_extraction.keras\": Mihin tiedostoon malli tallennetaan.\n",
    "- onitor=\"val_loss\": Seuraa validointihäviötä."
   ],
   "metadata": {
    "collapsed": false
   },
   "id": "a47d2803a14e937c"
  },
  {
   "cell_type": "code",
   "id": "f4c30bb1-7dbb-4a65-8cc9-742f09a48801",
   "metadata": {
    "tags": [],
    "ExecuteTime": {
     "end_time": "2025-04-07T11:51:10.318541Z",
     "start_time": "2025-04-07T11:49:19.069409Z"
    }
   },
   "source": [
    "callbacks = [\n",
    "    keras.callbacks.ModelCheckpoint(\n",
    "        filepath=\"feature_extraction.keras\",\n",
    "        save_best_only=True,\n",
    "        monitor=\"val_loss\"\n",
    "    )\n",
    "]\n",
    "\n",
    "start_time = time.time()\n",
    "\n",
    "history = model.fit(\n",
    "    train_dataset,\n",
    "    validation_data=validation_dataset,\n",
    "    epochs=10,\n",
    "    callbacks=callbacks,\n",
    "    verbose=1\n",
    ")\n",
    "training_time = time.time() - start_time\n",
    "\n",
    "test_loss, test_acc = model.evaluate(test_dataset)\n",
    "\n",
    "# Save results\n",
    "np.savez(\"VGG_FineTuned_kuvantunnistus_results.npz\",\n",
    "         test_acc=test_acc,\n",
    "         test_loss=test_loss,\n",
    "         training_time=training_time,\n",
    "         history=history.history)\n"
   ],
   "outputs": [
    {
     "name": "stdout",
     "output_type": "stream",
     "text": [
      "Epoch 1/10\n",
      "\u001B[1m32/32\u001B[0m \u001B[32m━━━━━━━━━━━━━━━━━━━━\u001B[0m\u001B[37m\u001B[0m \u001B[1m11s\u001B[0m 342ms/step - accuracy: 0.4990 - loss: 23.2317 - val_accuracy: 0.5185 - val_loss: 28.4463\n",
      "Epoch 2/10\n",
      "\u001B[1m32/32\u001B[0m \u001B[32m━━━━━━━━━━━━━━━━━━━━\u001B[0m\u001B[37m\u001B[0m \u001B[1m11s\u001B[0m 340ms/step - accuracy: 0.7219 - loss: 7.4073 - val_accuracy: 0.7778 - val_loss: 14.1580\n",
      "Epoch 3/10\n",
      "\u001B[1m32/32\u001B[0m \u001B[32m━━━━━━━━━━━━━━━━━━━━\u001B[0m\u001B[37m\u001B[0m \u001B[1m11s\u001B[0m 343ms/step - accuracy: 0.7282 - loss: 6.2387 - val_accuracy: 0.8148 - val_loss: 12.6743\n",
      "Epoch 4/10\n",
      "\u001B[1m32/32\u001B[0m \u001B[32m━━━━━━━━━━━━━━━━━━━━\u001B[0m\u001B[37m\u001B[0m \u001B[1m11s\u001B[0m 350ms/step - accuracy: 0.8714 - loss: 3.0559 - val_accuracy: 0.7778 - val_loss: 12.2212\n",
      "Epoch 5/10\n",
      "\u001B[1m32/32\u001B[0m \u001B[32m━━━━━━━━━━━━━━━━━━━━\u001B[0m\u001B[37m\u001B[0m \u001B[1m11s\u001B[0m 350ms/step - accuracy: 0.8417 - loss: 3.4487 - val_accuracy: 0.6667 - val_loss: 11.5119\n",
      "Epoch 6/10\n",
      "\u001B[1m32/32\u001B[0m \u001B[32m━━━━━━━━━━━━━━━━━━━━\u001B[0m\u001B[37m\u001B[0m \u001B[1m11s\u001B[0m 357ms/step - accuracy: 0.9416 - loss: 1.5352 - val_accuracy: 0.8148 - val_loss: 9.8823\n",
      "Epoch 7/10\n",
      "\u001B[1m32/32\u001B[0m \u001B[32m━━━━━━━━━━━━━━━━━━━━\u001B[0m\u001B[37m\u001B[0m \u001B[1m11s\u001B[0m 344ms/step - accuracy: 0.9253 - loss: 1.2712 - val_accuracy: 0.8148 - val_loss: 10.7010\n",
      "Epoch 8/10\n",
      "\u001B[1m32/32\u001B[0m \u001B[32m━━━━━━━━━━━━━━━━━━━━\u001B[0m\u001B[37m\u001B[0m \u001B[1m11s\u001B[0m 350ms/step - accuracy: 0.9462 - loss: 0.8304 - val_accuracy: 0.7778 - val_loss: 9.2566\n",
      "Epoch 9/10\n",
      "\u001B[1m32/32\u001B[0m \u001B[32m━━━━━━━━━━━━━━━━━━━━\u001B[0m\u001B[37m\u001B[0m \u001B[1m11s\u001B[0m 349ms/step - accuracy: 0.9252 - loss: 0.7310 - val_accuracy: 0.8148 - val_loss: 8.6095\n",
      "Epoch 10/10\n",
      "\u001B[1m32/32\u001B[0m \u001B[32m━━━━━━━━━━━━━━━━━━━━\u001B[0m\u001B[37m\u001B[0m \u001B[1m11s\u001B[0m 346ms/step - accuracy: 0.9106 - loss: 1.2295 - val_accuracy: 0.7407 - val_loss: 11.4998\n"
     ]
    }
   ],
   "execution_count": 6
  },
  {
   "cell_type": "markdown",
   "source": [
    "Visualisoi mallin koulutuksen aikana saatuja tuloksia.\n",
    "\n",
    "Koulutus- ja validointitarkkuuden ja häviön vertailu auttaa seuraamaan, oppiiko malli todella, vai ylisovittaako se vain koulutusdataan."
   ],
   "metadata": {
    "collapsed": false
   },
   "id": "e4a41b35247a0711"
  },
  {
   "cell_type": "code",
   "id": "4c0f81dd-40c8-41f6-bd8b-5a5ec89e0358",
   "metadata": {
    "tags": [],
    "ExecuteTime": {
     "end_time": "2025-04-07T11:51:17.979717Z",
     "start_time": "2025-04-07T11:51:17.214736Z"
    }
   },
   "source": [
    "accuracy = history.history[\"accuracy\"]\n",
    "val_accuracy = history.history[\"val_accuracy\"]\n",
    "loss = history.history[\"loss\"]\n",
    "val_loss = history.history[\"val_loss\"]\n",
    "epochs = list(range(1, len(accuracy)+1))\n",
    "plt.plot(epochs, accuracy, label=\"Training accuracy\")\n",
    "plt.plot(epochs, val_accuracy, label=\"Validation accuracy\")\n",
    "plt.legend()\n",
    "plt.figure()\n",
    "plt.plot(epochs, loss, label=\"Training loss\")\n",
    "plt.plot(epochs, val_loss, label=\"Validation loss\")\n",
    "plt.legend()\n",
    "plt.show()"
   ],
   "outputs": [
    {
     "data": {
      "text/plain": "<Figure size 640x480 with 1 Axes>",
      "image/png": "[encoded data removed]"
     },
     "metadata": {},
     "output_type": "display_data"
    },
    {
     "data": {
      "text/plain": "<Figure size 640x480 with 1 Axes>",
      "image/png": "[encoded data removed]"
     },
     "metadata": {},
     "output_type": "display_data"
    }
   ],
   "execution_count": 7
  },
  {
   "cell_type": "code",
   "outputs": [
    {
     "name": "stdout",
     "output_type": "stream",
     "text": [
      "\u001B[1m14/14\u001B[0m \u001B[32m━━━━━━━━━━━━━━━━━━━━\u001B[0m\u001B[37m\u001B[0m \u001B[1m2s\u001B[0m 149ms/step - accuracy: 0.9897 - loss: 0.1666\n",
      "Test accuracy: 0.963\n"
     ]
    }
   ],
   "source": [
    "test_loss, test_acc = model.evaluate(test_dataset)\n",
    "print(f\"Test accuracy: {test_acc:.3f}\")"
   ],
   "metadata": {
    "collapsed": false,
    "ExecuteTime": {
     "end_time": "2025-04-07T11:51:29.148704Z",
     "start_time": "2025-04-07T11:51:27.044326Z"
    }
   },
   "id": "62feffc9bccfca07",
   "execution_count": 8
  },
  {
   "cell_type": "markdown",
   "id": "5397f377-33ab-486f-b0c5-56d180773171",
   "metadata": {},
   "source": [
    "Avataan lukitus VGG16:n ylimmistä konvoluutiokerroksista ja hienosäädetään niiden koulutusta yhdessä oman luokittelukerroksen kanssa."
   ]
  },
  {
   "cell_type": "markdown",
   "source": [
    "1. Sulatetaan VGG16:n yläkerroksia\n",
    "- conv_base.trainable = True: Aiemmin VGG16:n konvoluutiokerrokset olivat lukittuja (ei opetettu), mutta nyt sulatat koko konvoluutiopohjan.\n",
    "2. Lukitaan osat VGG16:sta\n",
    "- Tässä lukitaan kaikki kerrokset paitsi viimeiset neljä kerrosta.\n",
    "3. Kompilointi hienosäätöä varten\n",
    "- optimizer=RMSprop(learning_rate=1e-5): Käytetään RMSpropia, joka on hyvä optimoija hienosäädölle, ja asetetaan erittäin pieni oppimisnopeus (1e-5), koska nyt opetetaan vain osittain konvoluutiokerroksia.\n",
    "\n",
    "- loss=\"sparse_categorical_crossentropy\"\n",
    "→ sparse_categorical_crossentropy on edelleen oikea valinta, koska käytät kokonaislukuja luokittelussa."
   ],
   "metadata": {
    "collapsed": false
   },
   "id": "134052cb064818db"
  },
  {
   "cell_type": "code",
   "id": "de7f2323-ee22-4de3-b344-1a5379d64b30",
   "metadata": {
    "tags": [],
    "ExecuteTime": {
     "end_time": "2025-04-07T11:51:44.919704Z",
     "start_time": "2025-04-07T11:51:44.902096Z"
    }
   },
   "source": [
    "conv_base.trainable = True\n",
    "for layer in conv_base.layers[:-4]:\n",
    "    layer.trainable = False\n",
    "    \n",
    "model.compile(\n",
    "    loss=\"sparse_categorical_crossentropy\",\n",
    "    optimizer=keras.optimizers.RMSprop(learning_rate=1e-5),\n",
    "    metrics=[\"accuracy\"]\n",
    ")\n"
   ],
   "outputs": [],
   "execution_count": 9
  },
  {
   "cell_type": "markdown",
   "source": [
    "Mallin hienosäätö (Fine-Tuning) ja parhaiden painojen tallentaminen."
   ],
   "metadata": {
    "collapsed": false
   },
   "id": "9e8b4312582bb892"
  },
  {
   "cell_type": "code",
   "id": "fb3aadf4-4ef8-41a0-8870-aa81cd976e98",
   "metadata": {
    "tags": [],
    "ExecuteTime": {
     "end_time": "2025-04-07T11:58:35.973897Z",
     "start_time": "2025-04-07T11:51:49.592827Z"
    }
   },
   "source": [
    "callbacks = [\n",
    "    keras.callbacks.ModelCheckpoint(\n",
    "        filepath=\"fine_tuning.keras\",\n",
    "        save_best_only=True,\n",
    "        monitor=\"val_loss\")\n",
    "]\n",
    "\n",
    "history = model.fit(\n",
    "    train_dataset,\n",
    "    epochs=30,\n",
    "    validation_data=validation_dataset,\n",
    "    callbacks=callbacks\n",
    ")\n"
   ],
   "outputs": [
    {
     "name": "stdout",
     "output_type": "stream",
     "text": [
      "Epoch 1/30\n",
      "\u001B[1m32/32\u001B[0m \u001B[32m━━━━━━━━━━━━━━━━━━━━\u001B[0m\u001B[37m\u001B[0m \u001B[1m14s\u001B[0m 435ms/step - accuracy: 0.9492 - loss: 0.4283 - val_accuracy: 0.8519 - val_loss: 9.5722\n",
      "Epoch 2/30\n",
      "\u001B[1m32/32\u001B[0m \u001B[32m━━━━━━━━━━━━━━━━━━━━\u001B[0m\u001B[37m\u001B[0m \u001B[1m14s\u001B[0m 435ms/step - accuracy: 0.9415 - loss: 0.6446 - val_accuracy: 0.8519 - val_loss: 10.1858\n",
      "Epoch 3/30\n",
      "\u001B[1m32/32\u001B[0m \u001B[32m━━━━━━━━━━━━━━━━━━━━\u001B[0m\u001B[37m\u001B[0m \u001B[1m14s\u001B[0m 431ms/step - accuracy: 0.9326 - loss: 0.6659 - val_accuracy: 0.8889 - val_loss: 10.9234\n",
      "Epoch 4/30\n",
      "\u001B[1m32/32\u001B[0m \u001B[32m━━━━━━━━━━━━━━━━━━━━\u001B[0m\u001B[37m\u001B[0m \u001B[1m14s\u001B[0m 441ms/step - accuracy: 0.9665 - loss: 0.2484 - val_accuracy: 0.8889 - val_loss: 11.0006\n",
      "Epoch 5/30\n",
      "\u001B[1m32/32\u001B[0m \u001B[32m━━━━━━━━━━━━━━━━━━━━\u001B[0m\u001B[37m\u001B[0m \u001B[1m14s\u001B[0m 439ms/step - accuracy: 0.9682 - loss: 0.3410 - val_accuracy: 0.8889 - val_loss: 10.7252\n",
      "Epoch 6/30\n",
      "\u001B[1m32/32\u001B[0m \u001B[32m━━━━━━━━━━━━━━━━━━━━\u001B[0m\u001B[37m\u001B[0m \u001B[1m14s\u001B[0m 425ms/step - accuracy: 0.9967 - loss: 0.0311 - val_accuracy: 0.8519 - val_loss: 10.8547\n",
      "Epoch 7/30\n",
      "\u001B[1m32/32\u001B[0m \u001B[32m━━━━━━━━━━━━━━━━━━━━\u001B[0m\u001B[37m\u001B[0m \u001B[1m13s\u001B[0m 422ms/step - accuracy: 0.9952 - loss: 0.0929 - val_accuracy: 0.8519 - val_loss: 10.8033\n",
      "Epoch 8/30\n",
      "\u001B[1m32/32\u001B[0m \u001B[32m━━━━━━━━━━━━━━━━━━━━\u001B[0m\u001B[37m\u001B[0m \u001B[1m13s\u001B[0m 420ms/step - accuracy: 0.9633 - loss: 0.3974 - val_accuracy: 0.8519 - val_loss: 9.2498\n",
      "Epoch 9/30\n",
      "\u001B[1m32/32\u001B[0m \u001B[32m━━━━━━━━━━━━━━━━━━━━\u001B[0m\u001B[37m\u001B[0m \u001B[1m14s\u001B[0m 423ms/step - accuracy: 0.9793 - loss: 0.1263 - val_accuracy: 0.8519 - val_loss: 8.6149\n",
      "Epoch 10/30\n",
      "\u001B[1m32/32\u001B[0m \u001B[32m━━━━━━━━━━━━━━━━━━━━\u001B[0m\u001B[37m\u001B[0m \u001B[1m13s\u001B[0m 414ms/step - accuracy: 0.9936 - loss: 0.0333 - val_accuracy: 0.8889 - val_loss: 8.8445\n",
      "Epoch 11/30\n",
      "\u001B[1m32/32\u001B[0m \u001B[32m━━━━━━━━━━━━━━━━━━━━\u001B[0m\u001B[37m\u001B[0m \u001B[1m13s\u001B[0m 415ms/step - accuracy: 0.9945 - loss: 0.0524 - val_accuracy: 0.8889 - val_loss: 8.8440\n",
      "Epoch 12/30\n",
      "\u001B[1m32/32\u001B[0m \u001B[32m━━━━━━━━━━━━━━━━━━━━\u001B[0m\u001B[37m\u001B[0m \u001B[1m13s\u001B[0m 419ms/step - accuracy: 0.9896 - loss: 0.1300 - val_accuracy: 0.8519 - val_loss: 9.3546\n",
      "Epoch 13/30\n",
      "\u001B[1m32/32\u001B[0m \u001B[32m━━━━━━━━━━━━━━━━━━━━\u001B[0m\u001B[37m\u001B[0m \u001B[1m13s\u001B[0m 421ms/step - accuracy: 0.9925 - loss: 0.0332 - val_accuracy: 0.8889 - val_loss: 8.7159\n",
      "Epoch 14/30\n",
      "\u001B[1m32/32\u001B[0m \u001B[32m━━━━━━━━━━━━━━━━━━━━\u001B[0m\u001B[37m\u001B[0m \u001B[1m14s\u001B[0m 428ms/step - accuracy: 0.9925 - loss: 0.0276 - val_accuracy: 0.8519 - val_loss: 8.4629\n",
      "Epoch 15/30\n",
      "\u001B[1m32/32\u001B[0m \u001B[32m━━━━━━━━━━━━━━━━━━━━\u001B[0m\u001B[37m\u001B[0m \u001B[1m13s\u001B[0m 418ms/step - accuracy: 0.9931 - loss: 0.0232 - val_accuracy: 0.8889 - val_loss: 8.4530\n",
      "Epoch 16/30\n",
      "\u001B[1m32/32\u001B[0m \u001B[32m━━━━━━━━━━━━━━━━━━━━\u001B[0m\u001B[37m\u001B[0m \u001B[1m13s\u001B[0m 422ms/step - accuracy: 0.9829 - loss: 0.1813 - val_accuracy: 0.8889 - val_loss: 7.9945\n",
      "Epoch 17/30\n",
      "\u001B[1m32/32\u001B[0m \u001B[32m━━━━━━━━━━━━━━━━━━━━\u001B[0m\u001B[37m\u001B[0m \u001B[1m14s\u001B[0m 437ms/step - accuracy: 0.9802 - loss: 0.1888 - val_accuracy: 0.8889 - val_loss: 7.7804\n",
      "Epoch 18/30\n",
      "\u001B[1m32/32\u001B[0m \u001B[32m━━━━━━━━━━━━━━━━━━━━\u001B[0m\u001B[37m\u001B[0m \u001B[1m14s\u001B[0m 430ms/step - accuracy: 0.9928 - loss: 0.0603 - val_accuracy: 0.8889 - val_loss: 7.6731\n",
      "Epoch 19/30\n",
      "\u001B[1m32/32\u001B[0m \u001B[32m━━━━━━━━━━━━━━━━━━━━\u001B[0m\u001B[37m\u001B[0m \u001B[1m13s\u001B[0m 422ms/step - accuracy: 1.0000 - loss: 2.0994e-04 - val_accuracy: 0.8889 - val_loss: 7.6521\n",
      "Epoch 20/30\n",
      "\u001B[1m32/32\u001B[0m \u001B[32m━━━━━━━━━━━━━━━━━━━━\u001B[0m\u001B[37m\u001B[0m \u001B[1m13s\u001B[0m 415ms/step - accuracy: 0.9896 - loss: 0.0083 - val_accuracy: 0.8889 - val_loss: 7.5112\n",
      "Epoch 21/30\n",
      "\u001B[1m32/32\u001B[0m \u001B[32m━━━━━━━━━━━━━━━━━━━━\u001B[0m\u001B[37m\u001B[0m \u001B[1m13s\u001B[0m 421ms/step - accuracy: 1.0000 - loss: 0.0037 - val_accuracy: 0.8519 - val_loss: 7.6680\n",
      "Epoch 22/30\n",
      "\u001B[1m32/32\u001B[0m \u001B[32m━━━━━━━━━━━━━━━━━━━━\u001B[0m\u001B[37m\u001B[0m \u001B[1m13s\u001B[0m 413ms/step - accuracy: 0.9837 - loss: 0.0631 - val_accuracy: 0.8519 - val_loss: 7.9295\n",
      "Epoch 23/30\n",
      "\u001B[1m32/32\u001B[0m \u001B[32m━━━━━━━━━━━━━━━━━━━━\u001B[0m\u001B[37m\u001B[0m \u001B[1m13s\u001B[0m 412ms/step - accuracy: 0.9766 - loss: 0.2037 - val_accuracy: 0.8519 - val_loss: 8.0628\n",
      "Epoch 24/30\n",
      "\u001B[1m32/32\u001B[0m \u001B[32m━━━━━━━━━━━━━━━━━━━━\u001B[0m\u001B[37m\u001B[0m \u001B[1m13s\u001B[0m 414ms/step - accuracy: 0.9976 - loss: 0.0067 - val_accuracy: 0.8519 - val_loss: 8.2477\n",
      "Epoch 25/30\n",
      "\u001B[1m32/32\u001B[0m \u001B[32m━━━━━━━━━━━━━━━━━━━━\u001B[0m\u001B[37m\u001B[0m \u001B[1m13s\u001B[0m 413ms/step - accuracy: 0.9890 - loss: 0.0447 - val_accuracy: 0.8519 - val_loss: 8.6994\n",
      "Epoch 26/30\n",
      "\u001B[1m32/32\u001B[0m \u001B[32m━━━━━━━━━━━━━━━━━━━━\u001B[0m\u001B[37m\u001B[0m \u001B[1m13s\u001B[0m 413ms/step - accuracy: 1.0000 - loss: 5.6302e-04 - val_accuracy: 0.8889 - val_loss: 8.6605\n",
      "Epoch 27/30\n",
      "\u001B[1m32/32\u001B[0m \u001B[32m━━━━━━━━━━━━━━━━━━━━\u001B[0m\u001B[37m\u001B[0m \u001B[1m13s\u001B[0m 413ms/step - accuracy: 1.0000 - loss: 3.2052e-06 - val_accuracy: 0.8889 - val_loss: 8.6642\n",
      "Epoch 28/30\n",
      "\u001B[1m32/32\u001B[0m \u001B[32m━━━━━━━━━━━━━━━━━━━━\u001B[0m\u001B[37m\u001B[0m \u001B[1m14s\u001B[0m 436ms/step - accuracy: 0.9928 - loss: 0.0778 - val_accuracy: 0.8889 - val_loss: 8.8547\n",
      "Epoch 29/30\n",
      "\u001B[1m32/32\u001B[0m \u001B[32m━━━━━━━━━━━━━━━━━━━━\u001B[0m\u001B[37m\u001B[0m \u001B[1m14s\u001B[0m 441ms/step - accuracy: 0.9990 - loss: 0.0030 - val_accuracy: 0.8889 - val_loss: 8.8240\n",
      "Epoch 30/30\n",
      "\u001B[1m32/32\u001B[0m \u001B[32m━━━━━━━━━━━━━━━━━━━━\u001B[0m\u001B[37m\u001B[0m \u001B[1m13s\u001B[0m 420ms/step - accuracy: 1.0000 - loss: 3.9813e-05 - val_accuracy: 0.8889 - val_loss: 8.8346\n"
     ]
    }
   ],
   "execution_count": 10
  },
  {
   "cell_type": "markdown",
   "source": [
    "Lataa mallin, joka on tallennettu parhailla painoilla validointihäviön perusteella.Tulosta."
   ],
   "metadata": {
    "collapsed": false
   },
   "id": "663c957701f32e98"
  },
  {
   "cell_type": "code",
   "id": "90709b52-bbf4-4bc6-b387-01d04a86929b",
   "metadata": {
    "tags": [],
    "ExecuteTime": {
     "end_time": "2025-04-07T11:59:06.281509Z",
     "start_time": "2025-04-07T11:59:03.943248Z"
    }
   },
   "source": [
    "test_model = keras.models.load_model(\"fine_tuning.keras\")\n",
    "test_loss, test_acc = test_model.evaluate(test_dataset)\n",
    "print(f\"Test accuracy: {test_acc:3f}\")"
   ],
   "outputs": [
    {
     "name": "stdout",
     "output_type": "stream",
     "text": [
      "\u001B[1m14/14\u001B[0m \u001B[32m━━━━━━━━━━━━━━━━━━━━\u001B[0m\u001B[37m\u001B[0m \u001B[1m2s\u001B[0m 143ms/step - accuracy: 1.0000 - loss: 0.0000e+00\n",
      "Test accuracy: 1.000000\n"
     ]
    }
   ],
   "execution_count": 11
  },
  {
   "cell_type": "markdown",
   "source": [
    "## Vertailu\n",
    "Analysoi eroja CNN ja Esikoulutettu malli piirteenirrottajana malleihin.\n",
    "\n",
    "### Malli 1: Perus-CNN (rakennettu alusta)\n",
    "Arkkitehtuuri: 3 konvoluutiokerrosta + Dense\n",
    "- Dropout: Kyllä (0.5)\n",
    "- Tulos (Test Accuracy): 0.519\n",
    "\n",
    "Malli oppii huonosti, mahdollisesti liian yksinkertainen tai ei riittävästi dataa."
   ],
   "metadata": {
    "collapsed": false
   },
   "id": "43cdf60cc26dcce7"
  },
  {
   "cell_type": "markdown",
   "source": [
    "### Malli 2: Feature Extraction VGG16 (etukäteen laskettuna)\n",
    "- Arkkitehtuuri: Esikoulutettu VGG16 (ilman yläkerroksia), ominaisuudet etukäteen laskettu\n",
    "- Tulos (Test Accuracy): 0.815\n",
    "\n",
    "Merkittävä parannus Malliin 1 verrattuna. Nopeampi koulutus (ominaisuudet esilasketaan).\n",
    "\n",
    "Ei hienosäätöä (conv_base on täysin jäädytetty). Malli ei opi uusia piirteitä datasta – jäädytetyt painot rajoittavat hienovaraista oppimista."
   ],
   "metadata": {
    "collapsed": false
   },
   "id": "4d2f2d25d7190585"
  },
  {
   "cell_type": "markdown",
   "source": [
    "### Malli 3: Transfer Learning + Fine-Tuning (VGG16)\n",
    "- Arkkitehtuuri: VGG16 (feature extractor), Dense + Dropout\n",
    "- Alkuun: conv_base jäädytetty → accuracy: 0.963\n",
    "- Hienosäätö (fine-tuning): Viimeiset 4 kerrosta avattu, optimizer vaihdettu RMSprop (LR=1e-5)\n",
    "- → Final Test Accuracy: 1.000\n",
    "\n",
    "Selkeästi paras tulos.\n",
    "Hienosäätö mahdollistaa tarkemman mukautumisen datasettiin.\n",
    "Yleinen strategia parhaiden tulosten saavuttamiseen kuvien luokittelussa."
   ],
   "metadata": {
    "collapsed": false
   },
   "id": "538eb744adbe938"
  },
  {
   "cell_type": "markdown",
   "source": [
    "###  Yhteenveto\n",
    "\n",
    "| Malli | Strategia | Test Accuracy |\n",
    "|-------|-----------|---------------|\n",
    "| 1     | Perus CNN | 0.519         |\n",
    "| 2     | Feature extraction (VGG16) | 0.815         |\n",
    "| 3     | Transfer learning + fine-tuning | **1.000**     |\n"
   ],
   "metadata": {
    "collapsed": false
   },
   "id": "e760536fdab5d4b7"
  },
  {
   "cell_type": "code",
   "outputs": [],
   "source": [],
   "metadata": {
    "collapsed": false,
    "ExecuteTime": {
     "end_time": "2025-04-07T10:54:01.704849Z",
     "start_time": "2025-04-07T10:54:01.702530Z"
    }
   },
   "id": "9d27161f958c6125",
   "execution_count": 60
  }
 ],
 "metadata": {
  "kernelspec": {
   "display_name": "Python 3 (ipykernel)",
   "language": "python",
   "name": "python3"
  },
  "language_info": {
   "codemirror_mode": {
    "name": "ipython",
    "version": 3
   },
   "file_extension": ".py",
   "mimetype": "text/x-python",
   "name": "python",
   "nbconvert_exporter": "python",
   "pygments_lexer": "ipython3",
   "version": "3.11.11"
  }
 },
 "nbformat": 4,
 "nbformat_minor": 5
}
