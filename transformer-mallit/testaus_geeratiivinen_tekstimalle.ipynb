{
 "cells": [
  {
   "cell_type": "markdown",
   "source": [
    "  \n",
    "## Generatiivinen tekstimallin testaus ja analyysi"
   ],
   "metadata": {
    "collapsed": false
   },
   "id": "285de416622d1447"
  },
  {
   "cell_type": "code",
   "source": [
    "\n",
    "import keras\n",
    "import libvoikko\n",
    "import sentencepiece as spm\n",
    "from pyvoikko import analyse\n",
    "\n",
    "model = keras.models.load_model('satuteksti_model.keras')\n",
    "sp = spm.SentencePieceProcessor()\n",
    "sp.load('satuteksti_sp.model')\n",
    "\n",
    "from saved_functions.generate_text_funktio import generate_text"
   ],
   "metadata": {
    "collapsed": false,
    "ExecuteTime": {
     "end_time": "2025-04-24T17:40:39.889140Z",
     "start_time": "2025-04-24T17:40:27.099445Z"
    }
   },
   "id": "52940e280428d887",
   "outputs": [],
   "execution_count": 1
  },
  {
   "cell_type": "markdown",
   "source": [
    "### Analysoida luodun tekstin laatua\n",
    "\n",
    "#### käyttää Pyvoikko:\n",
    "\n",
    "- kielioppivirheiden tarkistamiseen.\n",
    "\n",
    "- Textstat luettavuuden ja monimutkaisuuden arvioimiseen.\n",
    "\n",
    "    - Sanaston monipuolisuuteen esim. tyypillisten sanojen ja uniikkien sanojen määrää.\n",
    "- Luettavuuspiste tarkistamiseen."
   ],
   "metadata": {
    "collapsed": false
   },
   "id": "f83db5d7c2a85a1a"
  },
  {
   "metadata": {
    "ExecuteTime": {
     "end_time": "2025-04-24T17:40:47.158931Z",
     "start_time": "2025-04-24T17:40:39.896685Z"
    }
   },
   "cell_type": "code",
   "source": [
    "import pyvoikko\n",
    "import textstat\n",
    "from saved_functions.generate_text_funktio import generate_text\n",
    "import saved_functions.generate_text_funktio\n",
    "\n",
    "prompts = [\n",
    "\"prinsessa ja leipuri\",\n",
    "    \"sinä ja minä\",\n",
    "    \"Lintu laulaa\"\n",
    "]\n",
    "\n",
    "analyse_num = 1# Generate texts from prompts\n",
    "for prompt in prompts:\n",
    "    generated_text = generate_text(model, sp, prompt, num_tokens=100, temperature=1.0)\n",
    "    print(f\"Transcribed text: {generated_text}\")\n",
    "\n",
    "    words = generated_text.split()\n",
    "    unique_words = set(words)\n",
    "    vocab_diversity = len(unique_words) / len(words) if words else 0\n",
    "    readability_score = textstat.flesch_reading_ease(generated_text)\n",
    "\n",
    "    print(f\"\\n Analyysi: {analyse_num}\")\n",
    "    analyse_num += 1\n",
    "    error_count = 0\n",
    "\n",
    "    for word in words:\n",
    "        if not pyvoikko.analyse(word):\n",
    "            error_count += 1\n",
    "\n",
    "    print(f\"\\n Analyysin yhteenveto:\")\n",
    "    print(f\"- Virheellisiä sanoja: {error_count}\")\n",
    "    print(f\"- Sanaston monipuolisuus (uniikit / kaikki): {vocab_diversity:.2f}\")\n",
    "    print(f\"- Luettavuuspiste (Flesch): {readability_score:.2f}\")"
   ],
   "id": "b9db523b212780f0",
   "outputs": [
    {
     "name": "stdout",
     "output_type": "stream",
     "text": [
      "Transcribed text: prinsessa ja leipuri linnassa. Vettä tuli kuin korvosta kaataen. Hän ajoi kuormansa tiheän kuusen suojaan ja asettui odottamaan. Onnellisina jännitys kasvoi. Hui, miten tuuli vonkui korvissa. Lumiräntä pieksi kasvoja, niin että tuskin voi nähdä kättään silmiensä edessä. Oli vaikea päästä alas myllymäkeä, ja miten olikaan, huomasivat rengit haihtuneensa tieltä. — kuuli, sanoi hän, mättäitten ja koska hän niin kirkkaassa poudassa, kuin ei pilvenhattaraakaan olisi sen kannella kulkenut. Kului jonkun aikaa, niin nimismiehen rengit kuormineen kapusivat myllymäkeä ylös, ja Niilo seisoi eteisen ovella katsellen tielle.\n",
      "\n",
      " Analyysi: 1\n",
      "\n",
      " Analyysin yhteenveto:\n",
      "- Virheellisiä sanoja: 26\n",
      "- Sanaston monipuolisuus (uniikit / kaikki): 0.89\n",
      "- Luettavuuspiste (Flesch): 45.22\n",
      "Transcribed text: sinä ja minä kaikille, ja mahtava kuningaskunta. Siinä valtakunnassa on prinssi, nimeltä Maoni, ja samassa, että hän on ylä- pilliinsä. Elämä kävi kulkuaan, mutta hauskaa se ei ollut leipurin mielestä. Hän ei ollenkaan tietänyt mitä tehdä pitkin päivää. Jos hän kävi leipomossa, suututti häntä, kun näki miten siellä kaikki vetelehtivät. Kun hän meni talliin, seisoivat aasit siellä allapäin, kultaisten ylenmäärin täysien seimiensä edessä. Ei, hauskaa se ei ollut. Huilussakin oli jotakin hullusti, puhaltaminen ei tahtonut sujua, ja lopuksi se sai jäädä. Eräänä\n",
      "\n",
      " Analyysi: 2\n",
      "\n",
      " Analyysin yhteenveto:\n",
      "- Virheellisiä sanoja: 28\n",
      "- Sanaston monipuolisuus (uniikit / kaikki): 0.83\n",
      "- Luettavuuspiste (Flesch): 69.48\n",
      "Transcribed text: Lintu laulaa. Ole kiltti ja astu syrjään, että minä pääsen eteenpäin. — Et sinä niin vähällä pääse! — Saammepahan nähdä, kenellä meistä kärsivällisyyttä enemmän riittää, sinulla vai minulla, sanoi Niilo, myllyrenki, mutta rakkautta häntä kohtaan en tunne. Ja sitäpaitsihan hän on niin kovin ruma. Ja eräänä kauniina päivänä hänkin matkusti kotiinsa, omaan maahansa. Silloin prinsessa ensi kerran elämässään itki katkeria kyyneleitä ja ensi kerran ymmärsi, mitä heittänyt takin yltään ja seisoi jo valmiina nurmikolla. Hänen ei tarvinnut kauan odottaa taistelutoveria, ja samassa hän jo olikin\n",
      "\n",
      " Analyysi: 3\n",
      "\n",
      " Analyysin yhteenveto:\n",
      "- Virheellisiä sanoja: 27\n",
      "- Sanaston monipuolisuus (uniikit / kaikki): 0.88\n",
      "- Luettavuuspiste (Flesch): 42.48\n"
     ]
    }
   ],
   "execution_count": 2
  },
  {
   "metadata": {},
   "cell_type": "markdown",
   "source": [
    "### Analysin yhteenvetot:\n",
    "| Analyysi   | Virheellisiä sanoja | Sanaston monipuolisuus | Luettavuuspiste (Flesch) |\n",
    "|------------|----------------------|--------------------------|---------------------------|\n",
    "| Analyysi 1 | 34                   | 0.80                     | 53.47                     |\n",
    "| Analyysi 2 | 25                   | 0.83                     | 57.06                     |\n",
    "| Analyysi 3 | 25                   | 0.85                     | 34.02                     |\n"
   ],
   "id": "9a7e384f3f133a1a"
  },
  {
   "metadata": {
    "ExecuteTime": {
     "end_time": "2025-04-24T17:40:47.165007Z",
     "start_time": "2025-04-24T17:40:47.163563Z"
    }
   },
   "cell_type": "code",
   "source": "",
   "id": "f4a28ed0e5513f05",
   "outputs": [],
   "execution_count": null
  }
 ],
 "metadata": {
  "kernelspec": {
   "display_name": "Python 3",
   "language": "python",
   "name": "python3"
  },
  "language_info": {
   "codemirror_mode": {
    "name": "ipython",
    "version": 2
   },
   "file_extension": ".py",
   "mimetype": "text/x-python",
   "name": "python",
   "nbconvert_exporter": "python",
   "pygments_lexer": "ipython2",
   "version": "2.7.6"
  }
 },
 "nbformat": 4,
 "nbformat_minor": 5
}
