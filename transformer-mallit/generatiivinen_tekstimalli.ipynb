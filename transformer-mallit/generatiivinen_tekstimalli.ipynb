{
 "cells": [
  {
   "cell_type": "code",
   "id": "initial_id",
   "metadata": {
    "collapsed": true,
    "ExecuteTime": {
     "end_time": "2025-04-15T09:53:26.370336Z",
     "start_time": "2025-04-15T09:53:26.363531Z"
    }
   },
   "source": [
    "import os\n",
    "os.environ['KERAS_BACKEND'] = 'tensorflow'\n",
    "\n",
    "import numpy as np\n",
    "import keras\n",
    "import sentencepiece as spm\n",
    "\n",
    "print(f\"Keras version: {keras.__version__}\")"
   ],
   "outputs": [
    {
     "name": "stdout",
     "output_type": "stream",
     "text": [
      "Keras version: 2.15.0\n"
     ]
    }
   ],
   "execution_count": 50
  },
  {
   "metadata": {
    "ExecuteTime": {
     "end_time": "2025-04-15T09:53:26.408967Z",
     "start_time": "2025-04-15T09:53:26.402301Z"
    }
   },
   "cell_type": "code",
   "source": [
    "# Cell 2: Load and prepare text data\n",
    "with open('tekstit/satuteksti_plain.txt', 'r', encoding='utf-8-sig') as file:\n",
    "    text = file.read()#.lower()\n",
    "\n",
    "print(f\"Text length: {len(text)} characters\")\n",
    "print(f\"First 100 characters: {text[:100]}\")"
   ],
   "id": "24cd8b651242af57",
   "outputs": [
    {
     "name": "stdout",
     "output_type": "stream",
     "text": [
      "Text length: 74871 characters\n",
      "First 100 characters: Suuressa kaupungissa, missä oli monta tornia ja kimaltelevaa\n",
      "katonharjaa, asui kerran leipuri, jolla\n"
     ]
    }
   ],
   "execution_count": 51
  },
  {
   "metadata": {
    "ExecuteTime": {
     "end_time": "2025-04-15T09:53:26.721944Z",
     "start_time": "2025-04-15T09:53:26.424108Z"
    }
   },
   "cell_type": "code",
   "source": [
    "# Cell 3: Train SentencePiece model\n",
    "# Save text to a temporary file for SentencePiece training\n",
    "temp_file = 'satuteksti_temp.txt'\n",
    "with open(temp_file, 'w', encoding='utf-8') as f:\n",
    "    f.write(text)\n",
    "\n",
    "# Train SentencePiece model\n",
    "vocab_size = 13000  # You can adjust this based on your needs\n",
    "model_prefix = 'satuteksti_sp'\n",
    "\n",
    "spm.SentencePieceTrainer.train(\n",
    "    input=temp_file,\n",
    "    model_prefix=model_prefix,\n",
    "    vocab_size=vocab_size,\n",
    "    character_coverage=1.0,  # Important for Finnish\n",
    "    model_type='bpe',\n",
    "    user_defined_symbols=['<PAD>', '<UNK>']\n",
    ")\n",
    "\n",
    "# Load the trained tokenizer\n",
    "sp = spm.SentencePieceProcessor()\n",
    "sp.load(f\"{model_prefix}.model\")\n",
    "\n",
    "# Test tokenization\n",
    "test_text = \"Olipa kerran kettu\"\n",
    "tokens = sp.encode_as_pieces(test_text)\n",
    "print(f\"Tokenized example: {tokens}\")\n",
    "print(f\"Vocabulary size: {sp.get_piece_size()}\")"
   ],
   "id": "c4b886b436ab8228",
   "outputs": [
    {
     "name": "stdout",
     "output_type": "stream",
     "text": [
      "Tokenized example: ['▁Olipa', '▁kerran', '▁k', 'ettu']\n",
      "Vocabulary size: 13000\n"
     ]
    }
   ],
   "execution_count": 52
  },
  {
   "metadata": {
    "ExecuteTime": {
     "end_time": "2025-04-15T09:53:26.842950Z",
     "start_time": "2025-04-15T09:53:26.734383Z"
    }
   },
   "cell_type": "code",
   "source": [
    "# Cell 4: Prepare training data\n",
    "# Tokenize the text\n",
    "seq_length = 64\n",
    "pieces = sp.encode_as_ids(text)\n",
    "print(f\"Total tokens: {len(pieces)}\")\n",
    "\n",
    "# Create sequences\n",
    "sequences = []\n",
    "for i in range(0, len(pieces) - seq_length):\n",
    "    # Input: first seq_length tokens, Target: next seq_length tokens (shifted by 1)\n",
    "    sequences.append(pieces[i:i+seq_length+1])\n",
    "\n",
    "# Convert to NumPy arrays\n",
    "sequences = np.array(sequences)\n",
    "inputs = sequences[:, :-1]  # All tokens except the last one\n",
    "targets = sequences[:, 1:]  # All tokens except the first one\n",
    "\n",
    "print(f\"Number of sequences: {len(sequences)}\")\n",
    "print(f\"Input shape: {inputs.shape}\")\n",
    "print(f\"Target shape: {targets.shape}\")\n",
    "\n",
    "# Split into training and validation sets\n",
    "indices = np.arange(len(sequences))\n",
    "np.random.shuffle(indices)\n",
    "\n",
    "train_size = int(0.8 * len(sequences))\n",
    "train_indices = indices[:train_size]\n",
    "val_indices = indices[train_size:]\n",
    "\n",
    "train_inputs, train_targets = inputs[train_indices], targets[train_indices]\n",
    "val_inputs, val_targets = inputs[val_indices], targets[val_indices]"
   ],
   "id": "8a2361d252293011",
   "outputs": [
    {
     "name": "stdout",
     "output_type": "stream",
     "text": [
      "Total tokens: 12472\n",
      "Number of sequences: 12408\n",
      "Input shape: (12408, 64)\n",
      "Target shape: (12408, 64)\n"
     ]
    }
   ],
   "execution_count": 53
  },
  {
   "metadata": {
    "ExecuteTime": {
     "end_time": "2025-04-15T09:53:27.278120Z",
     "start_time": "2025-04-15T09:53:26.865440Z"
    }
   },
   "cell_type": "code",
   "source": [
    "# Cell 5: Define the model\n",
    "def get_positional_encoding(max_len, d_model):\n",
    "    \"\"\"Create sinusoidal positional encoding.\"\"\"\n",
    "    positions = np.arange(max_len)[:, np.newaxis]\n",
    "    angles = np.arange(d_model)[np.newaxis, :] / d_model\n",
    "    angles = 1 / (10000**angles)\n",
    "\n",
    "    pos_encoding = positions * angles\n",
    "    pos_encoding[:, 0::2] = np.sin(pos_encoding[:, 0::2])\n",
    "    pos_encoding[:, 1::2] = np.cos(pos_encoding[:, 1::2])\n",
    "\n",
    "    return pos_encoding\n",
    "\n",
    "# Define model parameters\n",
    "embed_dim = 256\n",
    "num_heads = 4\n",
    "ff_dim = 512\n",
    "num_layers = 3\n",
    "\n",
    "# Create the model\n",
    "inputs = keras.Input(shape=(seq_length,))\n",
    "embedding_layer = keras.layers.Embedding(sp.get_piece_size(), embed_dim)(inputs)\n",
    "\n",
    "# Add positional encoding\n",
    "pos_encoding = get_positional_encoding(seq_length, embed_dim)\n",
    "x = embedding_layer + pos_encoding\n",
    "\n",
    "# Helper function to create causal attention mask\n",
    "def create_causal_mask(size):\n",
    "    \"\"\"Create a causal attention mask to prevent looking at future tokens.\"\"\"\n",
    "    mask = 1 - np.triu(np.ones((size, size)), k=1)\n",
    "    return mask  # Lower triangular matrix\n",
    "\n",
    "# Transformer blocks\n",
    "for _ in range(num_layers):\n",
    "    # Multi-head attention with causal mask\n",
    "    # Manually create causal mask since use_causal_mask parameter isn't available\n",
    "    causal_mask = create_causal_mask(seq_length)\n",
    "\n",
    "    # Apply attention with manual causal mask\n",
    "    attention_output = keras.layers.MultiHeadAttention(\n",
    "        num_heads=num_heads,\n",
    "        key_dim=embed_dim // num_heads\n",
    "    )(x, x, attention_mask=causal_mask)\n",
    "\n",
    "    # Add & Norm\n",
    "    x = keras.layers.LayerNormalization(epsilon=1e-6)(x + attention_output)\n",
    "\n",
    "    # Feed-forward network\n",
    "    ffn = keras.Sequential([\n",
    "        keras.layers.Dense(ff_dim, activation=\"relu\"),\n",
    "        keras.layers.Dense(embed_dim),\n",
    "        keras.layers.Dropout(0.1)\n",
    "    ])\n",
    "    ffn_output = ffn(x)\n",
    "\n",
    "    # Add & Norm\n",
    "    x = keras.layers.LayerNormalization(epsilon=1e-6)(x + ffn_output)\n",
    "\n",
    "# Final output layer\n",
    "outputs = keras.layers.Dense(sp.get_piece_size())(x)\n",
    "\n",
    "# Create model\n",
    "model = keras.Model(inputs=inputs, outputs=outputs)\n",
    "\n",
    "# Compile model\n",
    "model.compile(\n",
    "    optimizer=keras.optimizers.Adam(learning_rate=3e-4),\n",
    "    loss=keras.losses.SparseCategoricalCrossentropy(from_logits=True),\n",
    "    metrics=['accuracy']\n",
    ")\n",
    "\n",
    "model.summary()"
   ],
   "id": "347ea87b1658ea1f",
   "outputs": [
    {
     "name": "stdout",
     "output_type": "stream",
     "text": [
      "Model: \"model_3\"\n",
      "__________________________________________________________________________________________________\n",
      " Layer (type)                Output Shape                 Param #   Connected to                  \n",
      "==================================================================================================\n",
      " input_4 (InputLayer)        [(None, 64)]                 0         []                            \n",
      "                                                                                                  \n",
      " embedding_3 (Embedding)     (None, 64, 256)              3328000   ['input_4[0][0]']             \n",
      "                                                                                                  \n",
      " tf.__operators__.add_21 (T  (None, 64, 256)              0         ['embedding_3[0][0]']         \n",
      " FOpLambda)                                                                                       \n",
      "                                                                                                  \n",
      " multi_head_attention_9 (Mu  (None, 64, 256)              263168    ['tf.__operators__.add_21[0][0\n",
      " ltiHeadAttention)                                                  ]',                           \n",
      "                                                                     'tf.__operators__.add_21[0][0\n",
      "                                                                    ]']                           \n",
      "                                                                                                  \n",
      " tf.__operators__.add_22 (T  (None, 64, 256)              0         ['tf.__operators__.add_21[0][0\n",
      " FOpLambda)                                                         ]',                           \n",
      "                                                                     'multi_head_attention_9[0][0]\n",
      "                                                                    ']                            \n",
      "                                                                                                  \n",
      " layer_normalization_18 (La  (None, 64, 256)              512       ['tf.__operators__.add_22[0][0\n",
      " yerNormalization)                                                  ]']                           \n",
      "                                                                                                  \n",
      " sequential_9 (Sequential)   (None, 64, 256)              262912    ['layer_normalization_18[0][0]\n",
      "                                                                    ']                            \n",
      "                                                                                                  \n",
      " tf.__operators__.add_23 (T  (None, 64, 256)              0         ['layer_normalization_18[0][0]\n",
      " FOpLambda)                                                         ',                            \n",
      "                                                                     'sequential_9[0][0]']        \n",
      "                                                                                                  \n",
      " layer_normalization_19 (La  (None, 64, 256)              512       ['tf.__operators__.add_23[0][0\n",
      " yerNormalization)                                                  ]']                           \n",
      "                                                                                                  \n",
      " multi_head_attention_10 (M  (None, 64, 256)              263168    ['layer_normalization_19[0][0]\n",
      " ultiHeadAttention)                                                 ',                            \n",
      "                                                                     'layer_normalization_19[0][0]\n",
      "                                                                    ']                            \n",
      "                                                                                                  \n",
      " tf.__operators__.add_24 (T  (None, 64, 256)              0         ['layer_normalization_19[0][0]\n",
      " FOpLambda)                                                         ',                            \n",
      "                                                                     'multi_head_attention_10[0][0\n",
      "                                                                    ]']                           \n",
      "                                                                                                  \n",
      " layer_normalization_20 (La  (None, 64, 256)              512       ['tf.__operators__.add_24[0][0\n",
      " yerNormalization)                                                  ]']                           \n",
      "                                                                                                  \n",
      " sequential_10 (Sequential)  (None, 64, 256)              262912    ['layer_normalization_20[0][0]\n",
      "                                                                    ']                            \n",
      "                                                                                                  \n",
      " tf.__operators__.add_25 (T  (None, 64, 256)              0         ['layer_normalization_20[0][0]\n",
      " FOpLambda)                                                         ',                            \n",
      "                                                                     'sequential_10[0][0]']       \n",
      "                                                                                                  \n",
      " layer_normalization_21 (La  (None, 64, 256)              512       ['tf.__operators__.add_25[0][0\n",
      " yerNormalization)                                                  ]']                           \n",
      "                                                                                                  \n",
      " multi_head_attention_11 (M  (None, 64, 256)              263168    ['layer_normalization_21[0][0]\n",
      " ultiHeadAttention)                                                 ',                            \n",
      "                                                                     'layer_normalization_21[0][0]\n",
      "                                                                    ']                            \n",
      "                                                                                                  \n",
      " tf.__operators__.add_26 (T  (None, 64, 256)              0         ['layer_normalization_21[0][0]\n",
      " FOpLambda)                                                         ',                            \n",
      "                                                                     'multi_head_attention_11[0][0\n",
      "                                                                    ]']                           \n",
      "                                                                                                  \n",
      " layer_normalization_22 (La  (None, 64, 256)              512       ['tf.__operators__.add_26[0][0\n",
      " yerNormalization)                                                  ]']                           \n",
      "                                                                                                  \n",
      " sequential_11 (Sequential)  (None, 64, 256)              262912    ['layer_normalization_22[0][0]\n",
      "                                                                    ']                            \n",
      "                                                                                                  \n",
      " tf.__operators__.add_27 (T  (None, 64, 256)              0         ['layer_normalization_22[0][0]\n",
      " FOpLambda)                                                         ',                            \n",
      "                                                                     'sequential_11[0][0]']       \n",
      "                                                                                                  \n",
      " layer_normalization_23 (La  (None, 64, 256)              512       ['tf.__operators__.add_27[0][0\n",
      " yerNormalization)                                                  ]']                           \n",
      "                                                                                                  \n",
      " dense_27 (Dense)            (None, 64, 13000)            3341000   ['layer_normalization_23[0][0]\n",
      "                                                                    ']                            \n",
      "                                                                                                  \n",
      "==================================================================================================\n",
      "Total params: 8250312 (31.47 MB)\n",
      "Trainable params: 8250312 (31.47 MB)\n",
      "Non-trainable params: 0 (0.00 Byte)\n",
      "__________________________________________________________________________________________________\n"
     ]
    }
   ],
   "execution_count": 54
  },
  {
   "metadata": {
    "ExecuteTime": {
     "end_time": "2025-04-15T10:16:25.706605Z",
     "start_time": "2025-04-15T09:53:27.280325Z"
    }
   },
   "cell_type": "code",
   "source": [
    "# Cell 6: Train the model\n",
    "batch_size = 64\n",
    "epochs = 10\n",
    "\n",
    "history = model.fit(\n",
    "    train_inputs, train_targets,\n",
    "    validation_data=(val_inputs, val_targets),\n",
    "    batch_size=batch_size,\n",
    "    epochs=epochs,\n",
    "    callbacks=[\n",
    "        keras.callbacks.EarlyStopping(patience=3, restore_best_weights=True),\n",
    "        keras.callbacks.ReduceLROnPlateau(factor=0.5, patience=1),\n",
    "        keras.callbacks.ModelCheckpoint('satuteksti_best_model.keras', save_best_only=True)\n",
    "    ]\n",
    ")"
   ],
   "id": "250ba7b38b2481a3",
   "outputs": [
    {
     "name": "stdout",
     "output_type": "stream",
     "text": [
      "Epoch 1/10\n",
      "156/156 [==============================] - 141s 878ms/step - loss: 6.9978 - accuracy: 0.0992 - val_loss: 6.5972 - val_accuracy: 0.1002 - lr: 3.0000e-04\n",
      "Epoch 2/10\n",
      "156/156 [==============================] - 136s 871ms/step - loss: 6.5160 - accuracy: 0.1131 - val_loss: 5.9736 - val_accuracy: 0.2114 - lr: 3.0000e-04\n",
      "Epoch 3/10\n",
      "156/156 [==============================] - 136s 874ms/step - loss: 4.7823 - accuracy: 0.2756 - val_loss: 3.5800 - val_accuracy: 0.4145 - lr: 3.0000e-04\n",
      "Epoch 4/10\n",
      "156/156 [==============================] - 136s 875ms/step - loss: 2.7650 - accuracy: 0.5039 - val_loss: 2.0610 - val_accuracy: 0.5756 - lr: 3.0000e-04\n",
      "Epoch 5/10\n",
      "156/156 [==============================] - 137s 878ms/step - loss: 1.6157 - accuracy: 0.6722 - val_loss: 1.1273 - val_accuracy: 0.7758 - lr: 3.0000e-04\n",
      "Epoch 6/10\n",
      "156/156 [==============================] - 136s 875ms/step - loss: 0.8377 - accuracy: 0.8640 - val_loss: 0.4942 - val_accuracy: 0.9398 - lr: 3.0000e-04\n",
      "Epoch 7/10\n",
      "156/156 [==============================] - 137s 879ms/step - loss: 0.3662 - accuracy: 0.9595 - val_loss: 0.2242 - val_accuracy: 0.9701 - lr: 3.0000e-04\n",
      "Epoch 8/10\n",
      "156/156 [==============================] - 137s 878ms/step - loss: 0.2010 - accuracy: 0.9739 - val_loss: 0.1538 - val_accuracy: 0.9750 - lr: 3.0000e-04\n",
      "Epoch 9/10\n",
      "156/156 [==============================] - 138s 888ms/step - loss: 0.1456 - accuracy: 0.9775 - val_loss: 0.1287 - val_accuracy: 0.9766 - lr: 3.0000e-04\n",
      "Epoch 10/10\n",
      "156/156 [==============================] - 144s 922ms/step - loss: 0.1198 - accuracy: 0.9794 - val_loss: 0.1160 - val_accuracy: 0.9775 - lr: 3.0000e-04\n"
     ]
    }
   ],
   "execution_count": 55
  },
  {
   "metadata": {
    "ExecuteTime": {
     "end_time": "2025-04-15T10:16:26.103936Z",
     "start_time": "2025-04-15T10:16:25.816441Z"
    }
   },
   "cell_type": "code",
   "source": [
    "# Cell 7: Plot training metrics\n",
    "import matplotlib.pyplot as plt\n",
    "\n",
    "plt.figure(figsize=(12, 5))\n",
    "plt.subplot(1, 2, 1)\n",
    "plt.plot(history.history['loss'], label='Training Loss')\n",
    "plt.plot(history.history['val_loss'], label='Validation Loss')\n",
    "plt.title('Model Loss')\n",
    "plt.xlabel('Epoch')\n",
    "plt.ylabel('Loss')\n",
    "plt.grid()\n",
    "plt.legend()\n",
    "\n",
    "plt.subplot(1, 2, 2)\n",
    "plt.plot(history.history['accuracy'], label='Training Accuracy')\n",
    "plt.plot(history.history['val_accuracy'], label='Validation Accuracy')\n",
    "plt.title('Model Accuracy')\n",
    "plt.xlabel('Epoch')\n",
    "plt.ylabel('Accuracy')\n",
    "plt.grid()\n",
    "plt.legend()\n",
    "\n",
    "plt.tight_layout()\n",
    "plt.show()"
   ],
   "id": "3f40a5afd3125418",
   "outputs": [
    {
     "data": {
      "text/plain": [
       "<Figure size 1200x500 with 2 Axes>"
      ],
      "image/png": "[encoded data removed]"
     },
     "metadata": {},
     "output_type": "display_data"
    }
   ],
   "execution_count": 56
  },
  {
   "metadata": {
    "ExecuteTime": {
     "end_time": "2025-04-15T10:16:26.558445Z",
     "start_time": "2025-04-15T10:16:26.110485Z"
    }
   },
   "cell_type": "code",
   "source": [
    "# Cell 8: Save the model\n",
    "model.save('satuteksti_model.keras')\n",
    "print(\"Model saved as 'satuteksti_model.keras'\")"
   ],
   "id": "e60b255f3e67c66a",
   "outputs": [
    {
     "name": "stdout",
     "output_type": "stream",
     "text": [
      "Model saved as 'satuteksti_model.keras'\n"
     ]
    }
   ],
   "execution_count": 57
  },
  {
   "metadata": {
    "ExecuteTime": {
     "end_time": "2025-04-15T10:16:26.581631Z",
     "start_time": "2025-04-15T10:16:26.573626Z"
    }
   },
   "cell_type": "code",
   "source": [
    "def generate_text(model, sp, prompt, num_tokens=100, temperature=1.0):\n",
    "    \"\"\"Generate text based on a prompt with proper lowercase handling.\"\"\"\n",
    "    # Convert prompt to lowercase to match training data\n",
    "    lowercase_prompt = prompt#.lower()\n",
    "\n",
    "    # Encode the prompt\n",
    "    input_ids = sp.encode_as_ids(lowercase_prompt)\n",
    "\n",
    "    # Rest of your generation code stays the same...\n",
    "    if len(input_ids) < seq_length:\n",
    "        padding_length = seq_length - len(input_ids)\n",
    "        input_ids = [0] * padding_length + input_ids\n",
    "    else:\n",
    "        padding_length = 0\n",
    "        input_ids = input_ids[-seq_length:]\n",
    "\n",
    "    # Generated tokens\n",
    "    generated_ids = list(input_ids[padding_length:])\n",
    "\n",
    "    # Generate text token by token\n",
    "    for _ in range(num_tokens):\n",
    "        x = np.array([input_ids])\n",
    "        predictions = model.predict(x, verbose=0)[0]\n",
    "        logits = predictions[-1]\n",
    "        logits = logits / temperature\n",
    "        exp_logits = np.exp(logits - np.max(logits))\n",
    "        probs = exp_logits / np.sum(exp_logits)\n",
    "        next_token = np.random.choice(len(probs), p=probs)\n",
    "        generated_ids.append(next_token)\n",
    "        input_ids = input_ids[1:] + [next_token]\n",
    "\n",
    "    # Decode the generated sequence\n",
    "    generated_text = sp.decode(generated_ids)\n",
    "\n",
    "    return generated_text"
   ],
   "id": "f6f7df8743b72d02",
   "outputs": [],
   "execution_count": 58
  },
  {
   "metadata": {
    "ExecuteTime": {
     "end_time": "2025-04-15T10:32:48.724552Z",
     "start_time": "2025-04-15T10:32:27.986644Z"
    }
   },
   "cell_type": "code",
   "source": [
    "# Cell 10: Generate sample text\n",
    "prompts = [\n",
    "    \"Kerran käveli\",\n",
    "    \"Olipa kerran\",\n",
    "    \"surullinen kuningas\",\n",
    "    \"iloinen neito\"\n",
    "]\n",
    "\n",
    "for prompt in prompts:\n",
    "    print(f\"\\nPrompt: {prompt}\")\n",
    "    generated = generate_text(model, sp, prompt, num_tokens=100, temperature=1.2)\n",
    "    print(generated)"
   ],
   "id": "35abab12e02def1c",
   "outputs": [
    {
     "name": "stdout",
     "output_type": "stream",
     "text": [
      "\n",
      "Prompt: Kerran käveli\n",
      "Kerran käveli kät vahinko, mutta istuivat tahdon niin hyvä, ja kun se pystyi jospa hän ei kukaan tullut elämään, kaikui raikuva muuan iloinen räätälinsälli hänen kukkaroaan. Samassa oli hän jalkeilla. — Pidän. — suureen, joka voi hän tiesi, ettei Janek ollutkaan yksin. helmet olivat riekaleina, kengät lintassa, ja tukka kantta. Kuningas ei kukaan ollut kruunussa eilen, jos tuuli hiukan kääntyisi, ja Niilo ja Niilo kaulanauhan jalokivet säkenöimään. Se katsoi niin lämpöisesti ja ystävällisesti prinsessaan. — — Olet puettu kuin morsian, sanoi se, mutta onnelliselta\n",
      "\n",
      "Prompt: Olipa kerran\n",
      "Olipa kerran, syöksyy pohjatuuli luoksesi, jos olet kanssani samaa mieltä, pulskempia oli kyllä nähty, ei heillä oikeastaan helmensä sai, ei hän nähnyt. Näin ovi kuitenkin mitä ajatella ja varovasti kirkkaat tähtöset. MYLLYRENKI, JOKA SAI TAIVAAN TUULET VALTAANSA. Oli kerran myllyrenki, joka oli saanut päähänsä, että hän menisi naimisiin itse myllärin tyttären kanssa. Tyttö ei muuta hartaammin halunnut, mutta ikävä vain, ettei mylläri ollut samaa mieltä. Rikkaampaa sulhasta häneus elättää vaimonsa, mutta jatkoi hän oli joutunut hänestä elämä oli yötaivas, kääntyen selin räätälinsälli hänen vieressään\n",
      "\n",
      "Prompt: surullinen kuningas\n",
      "surullinen kuningas, sanoi ilmoittavansa ylihovimestarille,ipuimielisesti, tunkeutuen pensaikkoon. Prinssi seurasi. Räätälinsälli. Sillävälin seisoi akkunassaan allapäin, kultaisten torvien kajahdellessa lähtisi retkeilemään. Miehet aina sinusta pitänyt ja siksi sitten taikinaa, surua ja Seuraavana päivänä oli etelätuuli hänen onneaan. — Herra, mitä käsket? sanoi prinssi. — Tee tehtäväsi, sanoi Niilo. Uudismökin isäntä värisi vilusta saapuessaan myllylle, mutta hänen kotimatkallaan alkoivat kinokset tienvarsilla sulaa ja isäni valtakunnan rajan yli. Tähän ei kukaan sanonut mitään, ja kuningaskin kumartui kuninkaallisen aitionsa kaiteen yli katsomaan. Prinsessa istui hänen\n",
      "\n",
      "Prompt: iloinen neito\n",
      "iloinen neito. Hän vähällä valtakunnassa, joka omakätisesti oli hevostaan. Mutta kun hän huomasi, mutta rakkautta häntä kohtaan en tunne. Ja eräänä kauniina punaisen seinävärin rinnalla. hylly entinen oleva aamusta Hevonen säikähti ja olisi aivan hämmentyneeltä kaikessa rikkaudessaan. Aha, sanoi se, Jos tuuli vonkui korvissa. Mutta kun hän sydäntänsä tuleekin olla. Kirjoitus, sanoi hän, sellainen nälän. Jos ruskean ratsun kuningasoiki Soitellessaan hän toisaalta tänään ole paennut maasta aarteen kanssa? — Jatka päinsä. — Tästä ei prinsessana hän jäät hän muistan. — kruunun, melua pitää\n"
     ]
    }
   ],
   "execution_count": 62
  }
 ],
 "metadata": {
  "kernelspec": {
   "display_name": "Python 3",
   "language": "python",
   "name": "python3"
  },
  "language_info": {
   "codemirror_mode": {
    "name": "ipython",
    "version": 2
   },
   "file_extension": ".py",
   "mimetype": "text/x-python",
   "name": "python",
   "nbconvert_exporter": "python",
   "pygments_lexer": "ipython2",
   "version": "2.7.6"
  }
 },
 "nbformat": 4,
 "nbformat_minor": 5
}
