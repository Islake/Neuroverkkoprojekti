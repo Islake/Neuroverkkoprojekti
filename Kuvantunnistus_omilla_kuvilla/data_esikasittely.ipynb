{
 "cells": [
  {
   "cell_type": "code",
   "outputs": [],
   "source": [
    "import os, shutil, pathlib\n",
    "import matplotlib.pyplot as plt\n",
    "import keras\n",
    "from keras import layers\n",
    "from keras.utils import image_dataset_from_directory"
   ],
   "metadata": {
    "collapsed": false,
    "ExecuteTime": {
     "end_time": "2025-03-30T16:20:25.582725Z",
     "start_time": "2025-03-30T16:20:25.546939Z"
    }
   },
   "id": "935d0c9baac3870d",
   "execution_count": 43
  },
  {
   "cell_type": "markdown",
   "source": [
    "### Resize and rename images\n",
    "\n",
    "```python\n",
    "import os\n",
    "from PIL import Image\n",
    "\n",
    "\n",
    "def resize_and_rename_images(input_folder, output_folder, name, new_width=224, new_height=224):\n",
    "    prefix = name\n",
    "    if not os.path.exists(output_folder):\n",
    "        os.makedirs(output_folder)\n",
    "\n",
    "    files = [f for f in os.listdir(input_folder) if f.lower().endswith(('png', 'jpg', 'jpeg'))]\n",
    "\n",
    "    for index, file in enumerate(files, start=1):\n",
    "        img_path = os.path.join(input_folder, file)\n",
    "        try:\n",
    "            with Image.open(img_path) as img:\n",
    "                img = img.resize((new_width, new_height), Image.LANCZOS)\n",
    "\n",
    "                new_filename = f\"{prefix}.{index:02d}.jpg\"\n",
    "                new_path = os.path.join(output_folder, new_filename)\n",
    "                img.save(new_path, \"JPEG\")\n",
    "                print(f\"Processed and saved: {new_path}\")\n",
    "        except Exception as e:\n",
    "            print(f\"Error processing {img_path}: {e}\")\n",
    "\n",
    "\n",
    "names = [\"haarukka\", \"lusikka\", \"veitsi\"]\n",
    "for name in names:\n",
    "    resize_and_rename_images(f\"Kuvantunnistus/aterimet/{name}\", f\"Kuvantunnistus_omilla_kuvilla/kuvantunnistus_small\", name)\n"
   ],
   "metadata": {
    "collapsed": false
   },
   "id": "6ee7cfc6ec12842d"
  },
  {
   "cell_type": "code",
   "outputs": [],
   "source": [
    "\n",
    "new_base_dir = \"kuvatunnistus\"  # assuming base directory for output\n",
    "original_dir = \"kuvantunnistus_small\"  # assuming base directory for original images\n",
    "# Function to create subsets\n",
    "def make_subset(subset_name, start_index, end_index):\n",
    "    for category in (\"haarukka\", \"lusikka\", \"veitsi\"):\n",
    "        dir = os.path.join(new_base_dir, subset_name, category)\n",
    "        os.makedirs(dir, exist_ok=True)\n",
    "        fnames = [f\"{category}.{i:02d}.jpg\" for i in range(start_index, end_index)]\n",
    "        for fname in fnames:\n",
    "            shutil.copyfile(src=os.path.join(original_dir, fname), dst=os.path.join(dir, fname))\n",
    "            \n",
    "make_subset(\"train\", start_index=1, end_index=12)\n",
    "make_subset(\"validation\", start_index=13, end_index=20)\n",
    "make_subset(\"test\", start_index=21, end_index=30)"
   ],
   "metadata": {
    "collapsed": false,
    "ExecuteTime": {
     "end_time": "2025-03-30T16:20:25.600316Z",
     "start_time": "2025-03-30T16:20:25.563861Z"
    }
   },
   "id": "13d86bf816d84569",
   "execution_count": 44
  },
  {
   "cell_type": "code",
   "outputs": [
    {
     "name": "stdout",
     "output_type": "stream",
     "text": [
      "Found 33 files belonging to 3 classes.\n",
      "Found 21 files belonging to 3 classes.\n",
      "Found 27 files belonging to 3 classes.\n"
     ]
    }
   ],
   "source": [
    "# Load datasets\n",
    "train_dataset = image_dataset_from_directory(\n",
    "    os.path.join(new_base_dir, \"train\"),\n",
    "    image_size=(224, 224),\n",
    "    batch_size=32\n",
    ")\n",
    "validation_dataset = image_dataset_from_directory(\n",
    "    os.path.join(new_base_dir, \"validation\"),\n",
    "    image_size=(224, 224),\n",
    "    batch_size=32\n",
    ")\n",
    "test_dataset = image_dataset_from_directory(\n",
    "    os.path.join(new_base_dir, \"test\"),\n",
    "    image_size=(224, 224),\n",
    "    batch_size=32\n",
    ")"
   ],
   "metadata": {
    "collapsed": false,
    "ExecuteTime": {
     "end_time": "2025-03-30T16:20:25.640002Z",
     "start_time": "2025-03-30T16:20:25.594769Z"
    }
   },
   "id": "70ac5010fbe1207e",
   "execution_count": 45
  }
 ],
 "metadata": {
  "kernelspec": {
   "display_name": "Python 3",
   "language": "python",
   "name": "python3"
  },
  "language_info": {
   "codemirror_mode": {
    "name": "ipython",
    "version": 2
   },
   "file_extension": ".py",
   "mimetype": "text/x-python",
   "name": "python",
   "nbconvert_exporter": "python",
   "pygments_lexer": "ipython2",
   "version": "2.7.6"
  }
 },
 "nbformat": 4,
 "nbformat_minor": 5
}
