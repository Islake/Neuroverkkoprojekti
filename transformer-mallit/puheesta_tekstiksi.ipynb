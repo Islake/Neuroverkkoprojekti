{
 "cells": [
  {
   "cell_type": "markdown",
   "source": [
    "Tässä osassa käytetään 'transcribe_with_whisper' -funktiota, joka on määritelty erillisessä Python-tiedostossa.\n",
    "Funktio ottaa syötteenä äänitiedoston ja palauttaa siitä tunnistetun tekstin."
   ],
   "metadata": {
    "collapsed": false
   }
  },
  {
   "cell_type": "code",
   "execution_count": 78,
   "outputs": [
    {
     "name": "stdout",
     "output_type": "stream",
     "text": [
      "Using device: cpu\n",
      "Loading Whisper small model...\n",
      "Generating transcription...\n",
      "Transcribed text:  Täällä on nyt lämmin ilmaa. Suomen kesä on kaunis.\n"
     ]
    }
   ],
   "source": [
    "from saved_functions.transcribe_function import transcribe_with_whisper\n",
    "\n",
    "audio_path = \"samples/testi2.wav\"\n",
    "transcribed_text = transcribe_with_whisper(audio_path)\n",
    "print(f\"Transcribed text: {transcribed_text}\")"
   ],
   "metadata": {
    "collapsed": false
   }
  },
  {
   "cell_type": "markdown",
   "source": [
    "Generatiivinen tekstimalli on koulutettu erillisessä tiedostossa nimeltä generatiivinen_tekstimalli.ipynb.\n",
    "Koulutuksen lopputuloksena on tallennettu tiedosto satuteksti_model.keras, jota ladataan tässä mallin uudelleenkouluttamisen välttämiseksi.\n",
    "\n",
    "Lisäksi ladataan SentencePiece-tokenisaattori (satuteksti_sp.model), jota käytettiin tekstimallin koulutuksessa syötteiden muokkaamiseen."
   ],
   "metadata": {
    "collapsed": false
   }
  },
  {
   "cell_type": "code",
   "execution_count": 79,
   "outputs": [
    {
     "data": {
      "text/plain": "True"
     },
     "execution_count": 79,
     "metadata": {},
     "output_type": "execute_result"
    }
   ],
   "source": [
    "from tensorflow import keras\n",
    "import sentencepiece as spm\n",
    "\n",
    "model = keras.models.load_model('satuteksti_model.keras')\n",
    "\n",
    "sp = spm.SentencePieceProcessor()\n",
    "sp.load('satuteksti_sp.model')"
   ],
   "metadata": {
    "collapsed": false
   }
  },
  {
   "cell_type": "markdown",
   "source": [
    "Lopuksi haetaan erillisestä tiedostosta 'generate_text' -funktio, jolle annetaan transkriptoitu puhe tekstimuodossa.\n",
    "Tämän jälkeen generatiivinen kielimalli alkaa tuottaa jatkoa annetulle tekstille (esim. satuaiheisesti)."
   ],
   "metadata": {
    "collapsed": false
   }
  },
  {
   "cell_type": "code",
   "execution_count": 80,
   "outputs": [
    {
     "name": "stdout",
     "output_type": "stream",
     "text": [
      "Generated text: Täällä on nyt lämmin ilmaa. Suomen kesä on kaunis. Kun hän silloin tällöin niinkin tapahtui, huiskautti hän vain kädellään, sanoen: Hän vihelsi kerran pillillään, ja samassa seisoi pohjatuuli hänen edessään. — Herra, sanoi pohjoinen, mitä käsket? — Tee tehtäväsi, sanoi Niilo. Kun mylly hetken kuluttua pantiin käyntiin, huomasivat rengit sen pyörivän pohjoistuulella; se tuskin voi korkeintaan kerran päivässä käydä leipomoissa, siinä oli kylliksi. Enempää ei muka hänen arvonsa laskuun, ja sitten hän ei enää koskaan näyttänyt hänestä niin pisti siitä erota.? sanoivat he yhteen ääneen. — Herra, mitä käsket?\n"
     ]
    }
   ],
   "source": [
    "from saved_functions.generate_text_funktio import generate_text\n",
    "\n",
    "generated_text = generate_text(model, sp, transcribed_text, num_tokens=100, temperature=1.0)\n",
    "print(f\"Generated text: {generated_text}\")"
   ],
   "metadata": {
    "collapsed": false
   }
  },
  {
   "cell_type": "markdown",
   "source": [
    "Molemmat käytetyt funktiot – transcribe_with_whisper ja generate_text – ovat samoja, jotka esiintyvät myös tiedostoissa:\n",
    "- puheesta_tekstiksi.ipynb\n",
    "- generatiivinen_tekstimalli.ipynb"
   ],
   "metadata": {
    "collapsed": false
   }
  }
 ],
 "metadata": {
  "kernelspec": {
   "display_name": "Python 3",
   "language": "python",
   "name": "python3"
  },
  "language_info": {
   "codemirror_mode": {
    "name": "ipython",
    "version": 2
   },
   "file_extension": ".py",
   "mimetype": "text/x-python",
   "name": "python",
   "nbconvert_exporter": "python",
   "pygments_lexer": "ipython2",
   "version": "2.7.6"
  }
 },
 "nbformat": 4,
 "nbformat_minor": 0
}
