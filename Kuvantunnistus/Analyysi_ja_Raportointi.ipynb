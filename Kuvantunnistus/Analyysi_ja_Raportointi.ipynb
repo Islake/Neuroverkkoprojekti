{
 "cells": [
  {
   "metadata": {},
   "cell_type": "markdown",
   "source": "## Ruokailuvälineiden tunnistus eri konvoluutioneuroverkkomalleilla",
   "id": "85ea5ac4cb76c8a2"
  },
  {
   "metadata": {},
   "cell_type": "code",
   "outputs": [],
   "execution_count": null,
   "source": [
    "import numpy as np\n",
    "import matplotlib.pyplot as plt\n",
    "import seaborn as sns\n",
    "import os\n",
    "from sklearn.metrics import classification_report, confusion_matrix, ConfusionMatrixDisplay\n",
    "import tensorflow as tf\n",
    "\n",
    "# 🎯 Luokat\n",
    "class_names = ['haarukka', 'lusikka', 'veitsi']\n"
   ],
   "id": "2ed8afe059534c62"
  },
  {
   "metadata": {},
   "cell_type": "markdown",
   "source": [
    "Datasetti on itse kerätty, ja se sisältää kuvia haarukoista, lusikoista ja veitsistä erilaisista kuvakulmista ja valaistusolosuhteista. Kuvia on 60 jokaisesta luokasta.\n",
    "\n",
    "Kuvat on esikäsitelty seuraavasti:\n",
    "- Rajaus, koon muuttaminen kokoon 224x224\n",
    "- Jako kolmeen osaan:\n",
    "  - Koulutusdata: 70%\n",
    "  - Validointidata: 15%\n",
    "  - Testidata: 15%\n",
    "- Data agumentoidaan\n",
    "  - Vaakasuuntainen peilaus\n",
    "  - Satunnainen kierto\n",
    "  - Satunnainen zoomaus\n"
   ],
   "id": "da8ffc8fd377692f"
  },
  {
   "metadata": {},
   "cell_type": "code",
   "outputs": [],
   "execution_count": null,
   "source": [
    "# Ladataan tulokset .npz-tiedostoista\n",
    "model1_data = np.load(\"model1_own_cnn_results.npz\")\n",
    "model2_data = np.load(\"model2_feature_extraction_results.npz\")\n",
    "model3_data = np.load(\"model3_finetuned_results.npz\")\n",
    "\n",
    "models = {\n",
    "    \"Oma CNN\": model1_data,\n",
    "    \"Feature Extraction (VGG16)\": model2_data,\n",
    "    \"Fine-tuned VGG16\": model3_data,\n",
    "}\n"
   ],
   "id": "ab7c9b52b1f0979b"
  }
 ],
 "metadata": {
  "kernelspec": {
   "display_name": "Python 3",
   "language": "python",
   "name": "python3"
  },
  "language_info": {
   "codemirror_mode": {
    "name": "ipython",
    "version": 2
   },
   "file_extension": ".py",
   "mimetype": "text/x-python",
   "name": "python",
   "nbconvert_exporter": "python",
   "pygments_lexer": "ipython2",
   "version": "2.7.6"
  }
 },
 "nbformat": 4,
 "nbformat_minor": 5
}
